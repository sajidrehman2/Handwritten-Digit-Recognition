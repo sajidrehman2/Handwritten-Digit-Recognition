{
 "cells": [
  {
   "cell_type": "code",
   "execution_count": 1,
   "metadata": {},
   "outputs": [
    {
     "name": "stdout",
     "output_type": "stream",
     "text": [
      "Collecting tensorflow\n",
      "  Downloading tensorflow-2.18.0-cp312-cp312-win_amd64.whl.metadata (3.3 kB)\n",
      "Collecting tensorflow-intel==2.18.0 (from tensorflow)\n",
      "  Downloading tensorflow_intel-2.18.0-cp312-cp312-win_amd64.whl.metadata (4.9 kB)\n",
      "Requirement already satisfied: absl-py>=1.0.0 in c:\\users\\sajid\\appdata\\local\\programs\\python\\python312\\lib\\site-packages (from tensorflow-intel==2.18.0->tensorflow) (2.1.0)\n",
      "Requirement already satisfied: astunparse>=1.6.0 in c:\\users\\sajid\\appdata\\local\\programs\\python\\python312\\lib\\site-packages (from tensorflow-intel==2.18.0->tensorflow) (1.6.3)\n",
      "Requirement already satisfied: flatbuffers>=24.3.25 in c:\\users\\sajid\\appdata\\local\\programs\\python\\python312\\lib\\site-packages (from tensorflow-intel==2.18.0->tensorflow) (24.3.25)\n",
      "Requirement already satisfied: gast!=0.5.0,!=0.5.1,!=0.5.2,>=0.2.1 in c:\\users\\sajid\\appdata\\local\\programs\\python\\python312\\lib\\site-packages (from tensorflow-intel==2.18.0->tensorflow) (0.6.0)\n",
      "Requirement already satisfied: google-pasta>=0.1.1 in c:\\users\\sajid\\appdata\\local\\programs\\python\\python312\\lib\\site-packages (from tensorflow-intel==2.18.0->tensorflow) (0.2.0)\n",
      "Requirement already satisfied: libclang>=13.0.0 in c:\\users\\sajid\\appdata\\local\\programs\\python\\python312\\lib\\site-packages (from tensorflow-intel==2.18.0->tensorflow) (18.1.1)\n",
      "Requirement already satisfied: opt-einsum>=2.3.2 in c:\\users\\sajid\\appdata\\local\\programs\\python\\python312\\lib\\site-packages (from tensorflow-intel==2.18.0->tensorflow) (3.3.0)\n",
      "Requirement already satisfied: packaging in c:\\users\\sajid\\appdata\\local\\programs\\python\\python312\\lib\\site-packages (from tensorflow-intel==2.18.0->tensorflow) (24.1)\n",
      "Requirement already satisfied: protobuf!=4.21.0,!=4.21.1,!=4.21.2,!=4.21.3,!=4.21.4,!=4.21.5,<6.0.0dev,>=3.20.3 in c:\\users\\sajid\\appdata\\local\\programs\\python\\python312\\lib\\site-packages (from tensorflow-intel==2.18.0->tensorflow) (4.25.4)\n",
      "Requirement already satisfied: requests<3,>=2.21.0 in c:\\users\\sajid\\appdata\\local\\programs\\python\\python312\\lib\\site-packages (from tensorflow-intel==2.18.0->tensorflow) (2.32.3)\n",
      "Requirement already satisfied: setuptools in c:\\users\\sajid\\appdata\\local\\programs\\python\\python312\\lib\\site-packages (from tensorflow-intel==2.18.0->tensorflow) (74.1.2)\n",
      "Requirement already satisfied: six>=1.12.0 in c:\\users\\sajid\\appdata\\local\\programs\\python\\python312\\lib\\site-packages (from tensorflow-intel==2.18.0->tensorflow) (1.16.0)\n",
      "Requirement already satisfied: termcolor>=1.1.0 in c:\\users\\sajid\\appdata\\local\\programs\\python\\python312\\lib\\site-packages (from tensorflow-intel==2.18.0->tensorflow) (2.4.0)\n",
      "Requirement already satisfied: typing-extensions>=3.6.6 in c:\\users\\sajid\\appdata\\local\\programs\\python\\python312\\lib\\site-packages (from tensorflow-intel==2.18.0->tensorflow) (4.11.0)\n",
      "Requirement already satisfied: wrapt>=1.11.0 in c:\\users\\sajid\\appdata\\local\\programs\\python\\python312\\lib\\site-packages (from tensorflow-intel==2.18.0->tensorflow) (1.16.0)\n",
      "Requirement already satisfied: grpcio<2.0,>=1.24.3 in c:\\users\\sajid\\appdata\\local\\programs\\python\\python312\\lib\\site-packages (from tensorflow-intel==2.18.0->tensorflow) (1.66.1)\n",
      "Collecting tensorboard<2.19,>=2.18 (from tensorflow-intel==2.18.0->tensorflow)\n",
      "  Downloading tensorboard-2.18.0-py3-none-any.whl.metadata (1.6 kB)\n",
      "Requirement already satisfied: keras>=3.5.0 in c:\\users\\sajid\\appdata\\local\\programs\\python\\python312\\lib\\site-packages (from tensorflow-intel==2.18.0->tensorflow) (3.5.0)\n",
      "Collecting numpy<2.1.0,>=1.26.0 (from tensorflow-intel==2.18.0->tensorflow)\n",
      "  Downloading numpy-2.0.2-cp312-cp312-win_amd64.whl.metadata (59 kB)\n",
      "Requirement already satisfied: h5py>=3.11.0 in c:\\users\\sajid\\appdata\\local\\programs\\python\\python312\\lib\\site-packages (from tensorflow-intel==2.18.0->tensorflow) (3.11.0)\n",
      "Requirement already satisfied: ml-dtypes<0.5.0,>=0.4.0 in c:\\users\\sajid\\appdata\\local\\programs\\python\\python312\\lib\\site-packages (from tensorflow-intel==2.18.0->tensorflow) (0.4.0)\n",
      "Requirement already satisfied: wheel<1.0,>=0.23.0 in c:\\users\\sajid\\appdata\\local\\programs\\python\\python312\\lib\\site-packages (from astunparse>=1.6.0->tensorflow-intel==2.18.0->tensorflow) (0.44.0)\n",
      "Requirement already satisfied: rich in c:\\users\\sajid\\appdata\\local\\programs\\python\\python312\\lib\\site-packages (from keras>=3.5.0->tensorflow-intel==2.18.0->tensorflow) (13.8.0)\n",
      "Requirement already satisfied: namex in c:\\users\\sajid\\appdata\\local\\programs\\python\\python312\\lib\\site-packages (from keras>=3.5.0->tensorflow-intel==2.18.0->tensorflow) (0.0.8)\n",
      "Requirement already satisfied: optree in c:\\users\\sajid\\appdata\\local\\programs\\python\\python312\\lib\\site-packages (from keras>=3.5.0->tensorflow-intel==2.18.0->tensorflow) (0.12.1)\n",
      "Requirement already satisfied: charset-normalizer<4,>=2 in c:\\users\\sajid\\appdata\\local\\programs\\python\\python312\\lib\\site-packages (from requests<3,>=2.21.0->tensorflow-intel==2.18.0->tensorflow) (3.3.2)\n",
      "Requirement already satisfied: idna<4,>=2.5 in c:\\users\\sajid\\appdata\\local\\programs\\python\\python312\\lib\\site-packages (from requests<3,>=2.21.0->tensorflow-intel==2.18.0->tensorflow) (3.8)\n",
      "Requirement already satisfied: urllib3<3,>=1.21.1 in c:\\users\\sajid\\appdata\\local\\programs\\python\\python312\\lib\\site-packages (from requests<3,>=2.21.0->tensorflow-intel==2.18.0->tensorflow) (2.2.2)\n",
      "Requirement already satisfied: certifi>=2017.4.17 in c:\\users\\sajid\\appdata\\local\\programs\\python\\python312\\lib\\site-packages (from requests<3,>=2.21.0->tensorflow-intel==2.18.0->tensorflow) (2024.8.30)\n",
      "Requirement already satisfied: markdown>=2.6.8 in c:\\users\\sajid\\appdata\\local\\programs\\python\\python312\\lib\\site-packages (from tensorboard<2.19,>=2.18->tensorflow-intel==2.18.0->tensorflow) (3.7)\n",
      "Requirement already satisfied: tensorboard-data-server<0.8.0,>=0.7.0 in c:\\users\\sajid\\appdata\\local\\programs\\python\\python312\\lib\\site-packages (from tensorboard<2.19,>=2.18->tensorflow-intel==2.18.0->tensorflow) (0.7.2)\n",
      "Requirement already satisfied: werkzeug>=1.0.1 in c:\\users\\sajid\\appdata\\local\\programs\\python\\python312\\lib\\site-packages (from tensorboard<2.19,>=2.18->tensorflow-intel==2.18.0->tensorflow) (3.0.3)\n",
      "Requirement already satisfied: MarkupSafe>=2.1.1 in c:\\users\\sajid\\appdata\\local\\programs\\python\\python312\\lib\\site-packages (from werkzeug>=1.0.1->tensorboard<2.19,>=2.18->tensorflow-intel==2.18.0->tensorflow) (2.1.5)\n",
      "Requirement already satisfied: markdown-it-py>=2.2.0 in c:\\users\\sajid\\appdata\\local\\programs\\python\\python312\\lib\\site-packages (from rich->keras>=3.5.0->tensorflow-intel==2.18.0->tensorflow) (3.0.0)\n",
      "Requirement already satisfied: pygments<3.0.0,>=2.13.0 in c:\\users\\sajid\\appdata\\local\\programs\\python\\python312\\lib\\site-packages (from rich->keras>=3.5.0->tensorflow-intel==2.18.0->tensorflow) (2.18.0)\n",
      "Requirement already satisfied: mdurl~=0.1 in c:\\users\\sajid\\appdata\\local\\programs\\python\\python312\\lib\\site-packages (from markdown-it-py>=2.2.0->rich->keras>=3.5.0->tensorflow-intel==2.18.0->tensorflow) (0.1.2)\n",
      "Downloading tensorflow-2.18.0-cp312-cp312-win_amd64.whl (7.5 kB)\n",
      "Downloading tensorflow_intel-2.18.0-cp312-cp312-win_amd64.whl (390.3 MB)\n",
      "   ---------------------------------------- 0.0/390.3 MB ? eta -:--:--\n",
      "   ---------------------------------------- 1.3/390.3 MB 9.5 MB/s eta 0:00:41\n",
      "   ---------------------------------------- 3.4/390.3 MB 9.6 MB/s eta 0:00:41\n",
      "   ---------------------------------------- 4.7/390.3 MB 8.6 MB/s eta 0:00:45\n",
      "    --------------------------------------- 6.6/390.3 MB 8.9 MB/s eta 0:00:43\n",
      "    --------------------------------------- 8.7/390.3 MB 8.8 MB/s eta 0:00:44\n",
      "   - -------------------------------------- 10.7/390.3 MB 9.1 MB/s eta 0:00:42\n",
      "   - -------------------------------------- 12.3/390.3 MB 8.9 MB/s eta 0:00:43\n",
      "   - -------------------------------------- 13.6/390.3 MB 8.6 MB/s eta 0:00:45\n",
      "   - -------------------------------------- 13.9/390.3 MB 8.3 MB/s eta 0:00:46\n",
      "   - -------------------------------------- 16.0/390.3 MB 7.8 MB/s eta 0:00:48\n",
      "   - -------------------------------------- 18.6/390.3 MB 8.2 MB/s eta 0:00:46\n",
      "   -- ------------------------------------- 20.4/390.3 MB 8.2 MB/s eta 0:00:45\n",
      "   -- ------------------------------------- 22.5/390.3 MB 8.4 MB/s eta 0:00:44\n",
      "   -- ------------------------------------- 24.6/390.3 MB 8.5 MB/s eta 0:00:43\n",
      "   -- ------------------------------------- 27.0/390.3 MB 8.7 MB/s eta 0:00:42\n",
      "   -- ------------------------------------- 29.1/390.3 MB 8.8 MB/s eta 0:00:42\n",
      "   --- ------------------------------------ 30.7/390.3 MB 8.7 MB/s eta 0:00:42\n",
      "   --- ------------------------------------ 33.0/390.3 MB 8.8 MB/s eta 0:00:41\n",
      "   --- ------------------------------------ 34.9/390.3 MB 8.8 MB/s eta 0:00:41\n",
      "   --- ------------------------------------ 37.2/390.3 MB 8.9 MB/s eta 0:00:40\n",
      "   ---- ----------------------------------- 39.1/390.3 MB 8.9 MB/s eta 0:00:40\n",
      "   ---- ----------------------------------- 41.4/390.3 MB 9.0 MB/s eta 0:00:39\n",
      "   ---- ----------------------------------- 43.5/390.3 MB 9.0 MB/s eta 0:00:39\n",
      "   ---- ----------------------------------- 45.6/390.3 MB 9.0 MB/s eta 0:00:39\n",
      "   ---- ----------------------------------- 47.7/390.3 MB 9.1 MB/s eta 0:00:38\n",
      "   ----- ---------------------------------- 49.3/390.3 MB 9.0 MB/s eta 0:00:38\n",
      "   ----- ---------------------------------- 50.9/390.3 MB 9.0 MB/s eta 0:00:38\n",
      "   ----- ---------------------------------- 53.0/390.3 MB 8.9 MB/s eta 0:00:38\n",
      "   ----- ---------------------------------- 54.5/390.3 MB 9.0 MB/s eta 0:00:38\n",
      "   ----- ---------------------------------- 56.4/390.3 MB 8.9 MB/s eta 0:00:38\n",
      "   ----- ---------------------------------- 57.1/390.3 MB 8.9 MB/s eta 0:00:38\n",
      "   ------ --------------------------------- 59.5/390.3 MB 8.8 MB/s eta 0:00:38\n",
      "   ------ --------------------------------- 61.3/390.3 MB 8.8 MB/s eta 0:00:38\n",
      "   ------ --------------------------------- 62.7/390.3 MB 8.7 MB/s eta 0:00:38\n",
      "   ------ --------------------------------- 64.2/390.3 MB 8.7 MB/s eta 0:00:38\n",
      "   ------ --------------------------------- 65.5/390.3 MB 8.6 MB/s eta 0:00:38\n",
      "   ------ --------------------------------- 66.8/390.3 MB 8.6 MB/s eta 0:00:38\n",
      "   ------- -------------------------------- 68.4/390.3 MB 8.5 MB/s eta 0:00:38\n",
      "   ------- -------------------------------- 69.7/390.3 MB 8.5 MB/s eta 0:00:38\n",
      "   ------- -------------------------------- 71.0/390.3 MB 8.4 MB/s eta 0:00:38\n",
      "   ------- -------------------------------- 72.6/390.3 MB 8.4 MB/s eta 0:00:38\n",
      "   ------- -------------------------------- 74.4/390.3 MB 8.4 MB/s eta 0:00:38\n",
      "   ------- -------------------------------- 76.5/390.3 MB 8.4 MB/s eta 0:00:38\n",
      "   -------- ------------------------------- 78.4/390.3 MB 8.4 MB/s eta 0:00:37\n",
      "   -------- ------------------------------- 80.2/390.3 MB 8.4 MB/s eta 0:00:37\n",
      "   -------- ------------------------------- 82.3/390.3 MB 8.5 MB/s eta 0:00:37\n",
      "   -------- ------------------------------- 84.1/390.3 MB 8.5 MB/s eta 0:00:37\n",
      "   -------- ------------------------------- 86.0/390.3 MB 8.5 MB/s eta 0:00:36\n",
      "   --------- ------------------------------ 87.8/390.3 MB 8.5 MB/s eta 0:00:36\n",
      "   --------- ------------------------------ 89.4/390.3 MB 8.5 MB/s eta 0:00:36\n",
      "   --------- ------------------------------ 91.5/390.3 MB 8.5 MB/s eta 0:00:36\n",
      "   --------- ------------------------------ 93.8/390.3 MB 8.5 MB/s eta 0:00:35\n",
      "   --------- ------------------------------ 96.2/390.3 MB 8.6 MB/s eta 0:00:35\n",
      "   ---------- ----------------------------- 98.6/390.3 MB 8.6 MB/s eta 0:00:34\n",
      "   ---------- ----------------------------- 100.9/390.3 MB 8.6 MB/s eta 0:00:34\n",
      "   ---------- ----------------------------- 102.8/390.3 MB 8.7 MB/s eta 0:00:34\n",
      "   ---------- ----------------------------- 104.3/390.3 MB 8.6 MB/s eta 0:00:34\n",
      "   ---------- ----------------------------- 106.2/390.3 MB 8.6 MB/s eta 0:00:33\n",
      "   ----------- ---------------------------- 108.5/390.3 MB 8.7 MB/s eta 0:00:33\n",
      "   ----------- ---------------------------- 110.6/390.3 MB 8.7 MB/s eta 0:00:33\n",
      "   ----------- ---------------------------- 112.7/390.3 MB 8.7 MB/s eta 0:00:32\n",
      "   ----------- ---------------------------- 114.8/390.3 MB 8.7 MB/s eta 0:00:32\n",
      "   ------------ --------------------------- 117.2/390.3 MB 8.8 MB/s eta 0:00:32\n",
      "   ------------ --------------------------- 119.3/390.3 MB 8.8 MB/s eta 0:00:31\n",
      "   ------------ --------------------------- 121.6/390.3 MB 8.8 MB/s eta 0:00:31\n",
      "   ------------ --------------------------- 124.0/390.3 MB 8.9 MB/s eta 0:00:31\n",
      "   ------------ --------------------------- 125.6/390.3 MB 8.8 MB/s eta 0:00:30\n",
      "   ------------- -------------------------- 127.7/390.3 MB 8.9 MB/s eta 0:00:30\n",
      "   ------------- -------------------------- 129.5/390.3 MB 8.9 MB/s eta 0:00:30\n",
      "   ------------- -------------------------- 131.9/390.3 MB 8.9 MB/s eta 0:00:30\n",
      "   ------------- -------------------------- 134.2/390.3 MB 8.9 MB/s eta 0:00:29\n",
      "   ------------- -------------------------- 136.3/390.3 MB 8.9 MB/s eta 0:00:29\n",
      "   -------------- ------------------------- 138.4/390.3 MB 8.9 MB/s eta 0:00:29\n",
      "   -------------- ------------------------- 140.5/390.3 MB 8.9 MB/s eta 0:00:28\n",
      "   -------------- ------------------------- 142.3/390.3 MB 8.9 MB/s eta 0:00:28\n",
      "   -------------- ------------------------- 143.9/390.3 MB 8.9 MB/s eta 0:00:28\n",
      "   -------------- ------------------------- 145.8/390.3 MB 8.9 MB/s eta 0:00:28\n",
      "   --------------- ------------------------ 148.1/390.3 MB 8.9 MB/s eta 0:00:28\n",
      "   --------------- ------------------------ 150.2/390.3 MB 9.0 MB/s eta 0:00:27\n",
      "   --------------- ------------------------ 152.3/390.3 MB 9.0 MB/s eta 0:00:27\n",
      "   --------------- ------------------------ 154.4/390.3 MB 9.0 MB/s eta 0:00:27\n",
      "   ---------------- ----------------------- 156.8/390.3 MB 9.0 MB/s eta 0:00:26\n",
      "   ---------------- ----------------------- 158.9/390.3 MB 9.0 MB/s eta 0:00:26\n",
      "   ---------------- ----------------------- 161.0/390.3 MB 9.0 MB/s eta 0:00:26\n",
      "   ---------------- ----------------------- 163.3/390.3 MB 9.0 MB/s eta 0:00:26\n",
      "   ---------------- ----------------------- 165.7/390.3 MB 9.1 MB/s eta 0:00:25\n",
      "   ----------------- ---------------------- 168.0/390.3 MB 9.1 MB/s eta 0:00:25\n",
      "   ----------------- ---------------------- 170.1/390.3 MB 9.1 MB/s eta 0:00:25\n",
      "   ----------------- ---------------------- 172.2/390.3 MB 9.1 MB/s eta 0:00:24\n",
      "   ----------------- ---------------------- 174.3/390.3 MB 9.1 MB/s eta 0:00:24\n",
      "   ------------------ --------------------- 176.7/390.3 MB 9.1 MB/s eta 0:00:24\n",
      "   ------------------ --------------------- 178.8/390.3 MB 9.1 MB/s eta 0:00:24\n",
      "   ------------------ --------------------- 180.9/390.3 MB 9.2 MB/s eta 0:00:23\n",
      "   ------------------ --------------------- 183.0/390.3 MB 9.2 MB/s eta 0:00:23\n",
      "   ------------------ --------------------- 185.1/390.3 MB 9.2 MB/s eta 0:00:23\n",
      "   ------------------- -------------------- 187.4/390.3 MB 9.2 MB/s eta 0:00:23\n",
      "   ------------------- -------------------- 189.8/390.3 MB 9.2 MB/s eta 0:00:22\n",
      "   ------------------- -------------------- 191.6/390.3 MB 9.2 MB/s eta 0:00:22\n",
      "   ------------------- -------------------- 193.7/390.3 MB 9.2 MB/s eta 0:00:22\n",
      "   -------------------- ------------------- 195.8/390.3 MB 9.2 MB/s eta 0:00:22\n",
      "   -------------------- ------------------- 197.9/390.3 MB 9.2 MB/s eta 0:00:21\n",
      "   -------------------- ------------------- 200.3/390.3 MB 9.2 MB/s eta 0:00:21\n",
      "   -------------------- ------------------- 202.6/390.3 MB 9.2 MB/s eta 0:00:21\n",
      "   -------------------- ------------------- 204.7/390.3 MB 9.2 MB/s eta 0:00:21\n",
      "   --------------------- ------------------ 206.6/390.3 MB 9.2 MB/s eta 0:00:20\n",
      "   --------------------- ------------------ 208.9/390.3 MB 9.3 MB/s eta 0:00:20\n",
      "   --------------------- ------------------ 211.3/390.3 MB 9.3 MB/s eta 0:00:20\n",
      "   --------------------- ------------------ 213.1/390.3 MB 9.3 MB/s eta 0:00:20\n",
      "   ---------------------- ----------------- 215.5/390.3 MB 9.3 MB/s eta 0:00:19\n",
      "   ---------------------- ----------------- 217.6/390.3 MB 9.3 MB/s eta 0:00:19\n",
      "   ---------------------- ----------------- 220.2/390.3 MB 9.3 MB/s eta 0:00:19\n",
      "   ---------------------- ----------------- 222.6/390.3 MB 9.3 MB/s eta 0:00:18\n",
      "   ----------------------- ---------------- 224.7/390.3 MB 9.3 MB/s eta 0:00:18\n",
      "   ----------------------- ---------------- 227.0/390.3 MB 9.3 MB/s eta 0:00:18\n",
      "   ----------------------- ---------------- 228.9/390.3 MB 9.3 MB/s eta 0:00:18\n",
      "   ----------------------- ---------------- 230.7/390.3 MB 9.3 MB/s eta 0:00:18\n",
      "   ----------------------- ---------------- 232.5/390.3 MB 9.3 MB/s eta 0:00:17\n",
      "   ----------------------- ---------------- 234.1/390.3 MB 9.3 MB/s eta 0:00:17\n",
      "   ------------------------ --------------- 235.7/390.3 MB 9.3 MB/s eta 0:00:17\n",
      "   ------------------------ --------------- 237.8/390.3 MB 9.3 MB/s eta 0:00:17\n",
      "   ------------------------ --------------- 239.9/390.3 MB 9.3 MB/s eta 0:00:17\n",
      "   ------------------------ --------------- 241.7/390.3 MB 9.3 MB/s eta 0:00:16\n",
      "   ------------------------ --------------- 242.5/390.3 MB 9.3 MB/s eta 0:00:16\n",
      "   ------------------------- -------------- 244.3/390.3 MB 9.2 MB/s eta 0:00:16\n",
      "   ------------------------- -------------- 246.4/390.3 MB 9.2 MB/s eta 0:00:16\n",
      "   ------------------------- -------------- 248.3/390.3 MB 9.2 MB/s eta 0:00:16\n",
      "   ------------------------- -------------- 250.3/390.3 MB 9.2 MB/s eta 0:00:16\n",
      "   ------------------------- -------------- 252.4/390.3 MB 9.2 MB/s eta 0:00:15\n",
      "   -------------------------- ------------- 253.8/390.3 MB 9.2 MB/s eta 0:00:15\n",
      "   -------------------------- ------------- 255.6/390.3 MB 9.2 MB/s eta 0:00:15\n",
      "   -------------------------- ------------- 257.4/390.3 MB 9.2 MB/s eta 0:00:15\n",
      "   -------------------------- ------------- 259.0/390.3 MB 9.2 MB/s eta 0:00:15\n",
      "   -------------------------- ------------- 260.0/390.3 MB 9.2 MB/s eta 0:00:15\n",
      "   -------------------------- ------------- 260.0/390.3 MB 9.2 MB/s eta 0:00:15\n",
      "   -------------------------- ------------- 260.3/390.3 MB 9.1 MB/s eta 0:00:15\n",
      "   -------------------------- ------------- 262.7/390.3 MB 9.1 MB/s eta 0:00:15\n",
      "   --------------------------- ------------ 264.2/390.3 MB 9.0 MB/s eta 0:00:14\n",
      "   --------------------------- ------------ 264.5/390.3 MB 9.0 MB/s eta 0:00:14\n",
      "   --------------------------- ------------ 266.1/390.3 MB 9.0 MB/s eta 0:00:14\n",
      "   --------------------------- ------------ 268.2/390.3 MB 9.0 MB/s eta 0:00:14\n",
      "   --------------------------- ------------ 270.3/390.3 MB 9.0 MB/s eta 0:00:14\n",
      "   --------------------------- ------------ 272.6/390.3 MB 9.0 MB/s eta 0:00:14\n",
      "   ---------------------------- ----------- 274.7/390.3 MB 9.0 MB/s eta 0:00:13\n",
      "   ---------------------------- ----------- 276.6/390.3 MB 9.1 MB/s eta 0:00:13\n",
      "   ---------------------------- ----------- 279.2/390.3 MB 9.1 MB/s eta 0:00:13\n",
      "   ---------------------------- ----------- 281.3/390.3 MB 9.1 MB/s eta 0:00:12\n",
      "   ---------------------------- ----------- 281.3/390.3 MB 9.1 MB/s eta 0:00:12\n",
      "   ---------------------------- ----------- 282.9/390.3 MB 9.0 MB/s eta 0:00:12\n",
      "   ----------------------------- ---------- 283.6/390.3 MB 9.0 MB/s eta 0:00:12\n",
      "   ----------------------------- ---------- 285.0/390.3 MB 8.9 MB/s eta 0:00:12\n",
      "   ----------------------------- ---------- 285.7/390.3 MB 8.9 MB/s eta 0:00:12\n",
      "   ----------------------------- ---------- 286.5/390.3 MB 8.9 MB/s eta 0:00:12\n",
      "   ----------------------------- ---------- 287.6/390.3 MB 8.8 MB/s eta 0:00:12\n",
      "   ----------------------------- ---------- 288.6/390.3 MB 8.8 MB/s eta 0:00:12\n",
      "   ----------------------------- ---------- 289.7/390.3 MB 8.8 MB/s eta 0:00:12\n",
      "   ----------------------------- ---------- 291.0/390.3 MB 8.7 MB/s eta 0:00:12\n",
      "   ----------------------------- ---------- 291.8/390.3 MB 8.7 MB/s eta 0:00:12\n",
      "   ------------------------------ --------- 293.6/390.3 MB 8.7 MB/s eta 0:00:12\n",
      "   ------------------------------ --------- 295.2/390.3 MB 8.7 MB/s eta 0:00:11\n",
      "   ------------------------------ --------- 297.3/390.3 MB 8.7 MB/s eta 0:00:11\n",
      "   ------------------------------ --------- 299.4/390.3 MB 8.7 MB/s eta 0:00:11\n",
      "   ------------------------------ --------- 301.7/390.3 MB 8.7 MB/s eta 0:00:11\n",
      "   ------------------------------- -------- 304.1/390.3 MB 8.7 MB/s eta 0:00:10\n",
      "   ------------------------------- -------- 306.2/390.3 MB 8.7 MB/s eta 0:00:10\n",
      "   ------------------------------- -------- 308.3/390.3 MB 8.7 MB/s eta 0:00:10\n",
      "   ------------------------------- -------- 310.4/390.3 MB 8.7 MB/s eta 0:00:10\n",
      "   -------------------------------- ------- 312.5/390.3 MB 8.7 MB/s eta 0:00:09\n",
      "   -------------------------------- ------- 314.0/390.3 MB 8.7 MB/s eta 0:00:09\n",
      "   -------------------------------- ------- 316.1/390.3 MB 8.7 MB/s eta 0:00:09\n",
      "   -------------------------------- ------- 317.7/390.3 MB 8.7 MB/s eta 0:00:09\n",
      "   -------------------------------- ------- 320.1/390.3 MB 8.8 MB/s eta 0:00:09\n",
      "   --------------------------------- ------ 322.4/390.3 MB 8.8 MB/s eta 0:00:08\n",
      "   --------------------------------- ------ 325.1/390.3 MB 8.8 MB/s eta 0:00:08\n",
      "   --------------------------------- ------ 327.2/390.3 MB 8.9 MB/s eta 0:00:08\n",
      "   --------------------------------- ------ 329.5/390.3 MB 8.9 MB/s eta 0:00:07\n",
      "   --------------------------------- ------ 331.6/390.3 MB 8.9 MB/s eta 0:00:07\n",
      "   ---------------------------------- ----- 332.9/390.3 MB 8.9 MB/s eta 0:00:07\n",
      "   ---------------------------------- ----- 334.0/390.3 MB 8.9 MB/s eta 0:00:07\n",
      "   ---------------------------------- ----- 335.8/390.3 MB 8.9 MB/s eta 0:00:07\n",
      "   ---------------------------------- ----- 337.4/390.3 MB 8.9 MB/s eta 0:00:06\n",
      "   ---------------------------------- ----- 337.9/390.3 MB 8.8 MB/s eta 0:00:06\n",
      "   ---------------------------------- ----- 339.5/390.3 MB 8.8 MB/s eta 0:00:06\n",
      "   ---------------------------------- ----- 341.0/390.3 MB 8.8 MB/s eta 0:00:06\n",
      "   ----------------------------------- ---- 342.1/390.3 MB 8.8 MB/s eta 0:00:06\n",
      "   ----------------------------------- ---- 342.9/390.3 MB 8.8 MB/s eta 0:00:06\n",
      "   ----------------------------------- ---- 343.9/390.3 MB 8.7 MB/s eta 0:00:06\n",
      "   ----------------------------------- ---- 345.5/390.3 MB 8.7 MB/s eta 0:00:06\n",
      "   ----------------------------------- ---- 346.3/390.3 MB 8.7 MB/s eta 0:00:06\n",
      "   ----------------------------------- ---- 348.1/390.3 MB 8.7 MB/s eta 0:00:05\n",
      "   ----------------------------------- ---- 348.7/390.3 MB 8.7 MB/s eta 0:00:05\n",
      "   ----------------------------------- ---- 349.4/390.3 MB 8.6 MB/s eta 0:00:05\n",
      "   ------------------------------------ --- 351.3/390.3 MB 8.6 MB/s eta 0:00:05\n",
      "   ------------------------------------ --- 351.5/390.3 MB 8.5 MB/s eta 0:00:05\n",
      "   ------------------------------------ --- 353.6/390.3 MB 8.5 MB/s eta 0:00:05\n",
      "   ------------------------------------ --- 355.7/390.3 MB 8.5 MB/s eta 0:00:05\n",
      "   ------------------------------------ --- 357.8/390.3 MB 8.5 MB/s eta 0:00:04\n",
      "   ------------------------------------ --- 359.7/390.3 MB 8.5 MB/s eta 0:00:04\n",
      "   ------------------------------------- -- 361.5/390.3 MB 8.5 MB/s eta 0:00:04\n",
      "   ------------------------------------- -- 363.1/390.3 MB 8.5 MB/s eta 0:00:04\n",
      "   ------------------------------------- -- 364.6/390.3 MB 8.5 MB/s eta 0:00:04\n",
      "   ------------------------------------- -- 366.2/390.3 MB 8.4 MB/s eta 0:00:03\n",
      "   ------------------------------------- -- 367.5/390.3 MB 8.4 MB/s eta 0:00:03\n",
      "   ------------------------------------- -- 369.1/390.3 MB 8.4 MB/s eta 0:00:03\n",
      "   -------------------------------------- - 370.9/390.3 MB 8.4 MB/s eta 0:00:03\n",
      "   -------------------------------------- - 373.0/390.3 MB 8.4 MB/s eta 0:00:03\n",
      "   -------------------------------------- - 374.9/390.3 MB 8.4 MB/s eta 0:00:02\n",
      "   -------------------------------------- - 377.0/390.3 MB 8.4 MB/s eta 0:00:02\n",
      "   -------------------------------------- - 379.1/390.3 MB 8.4 MB/s eta 0:00:02\n",
      "   ---------------------------------------  381.2/390.3 MB 8.4 MB/s eta 0:00:02\n",
      "   ---------------------------------------  383.5/390.3 MB 8.4 MB/s eta 0:00:01\n",
      "   ---------------------------------------  385.4/390.3 MB 8.4 MB/s eta 0:00:01\n",
      "   ---------------------------------------  387.7/390.3 MB 8.4 MB/s eta 0:00:01\n",
      "   ---------------------------------------  389.5/390.3 MB 8.4 MB/s eta 0:00:01\n",
      "   ---------------------------------------  390.1/390.3 MB 8.4 MB/s eta 0:00:01\n",
      "   ---------------------------------------  390.1/390.3 MB 8.4 MB/s eta 0:00:01\n",
      "   ---------------------------------------  390.1/390.3 MB 8.4 MB/s eta 0:00:01\n",
      "   ---------------------------------------  390.1/390.3 MB 8.4 MB/s eta 0:00:01\n",
      "   ---------------------------------------  390.1/390.3 MB 8.4 MB/s eta 0:00:01\n",
      "   ---------------------------------------  390.1/390.3 MB 8.4 MB/s eta 0:00:01\n",
      "   ---------------------------------------  390.1/390.3 MB 8.4 MB/s eta 0:00:01\n",
      "   ---------------------------------------  390.1/390.3 MB 8.4 MB/s eta 0:00:01\n",
      "   ---------------------------------------- 390.3/390.3 MB 7.8 MB/s eta 0:00:00\n",
      "Downloading numpy-2.0.2-cp312-cp312-win_amd64.whl (15.6 MB)\n",
      "   ---------------------------------------- 0.0/15.6 MB ? eta -:--:--\n",
      "   ---- ----------------------------------- 1.8/15.6 MB 10.1 MB/s eta 0:00:02\n",
      "   ---------- ----------------------------- 3.9/15.6 MB 9.4 MB/s eta 0:00:02\n",
      "   --------------- ------------------------ 6.0/15.6 MB 9.7 MB/s eta 0:00:01\n",
      "   -------------------- ------------------- 7.9/15.6 MB 9.4 MB/s eta 0:00:01\n",
      "   ------------------------- -------------- 10.0/15.6 MB 9.6 MB/s eta 0:00:01\n",
      "   ------------------------------ --------- 11.8/15.6 MB 9.2 MB/s eta 0:00:01\n",
      "   --------------------------------- ------ 13.1/15.6 MB 8.8 MB/s eta 0:00:01\n",
      "   -------------------------------------- - 15.2/15.6 MB 8.9 MB/s eta 0:00:01\n",
      "   ---------------------------------------- 15.6/15.6 MB 8.5 MB/s eta 0:00:00\n",
      "Downloading tensorboard-2.18.0-py3-none-any.whl (5.5 MB)\n",
      "   ---------------------------------------- 0.0/5.5 MB ? eta -:--:--\n",
      "   --------------- ------------------------ 2.1/5.5 MB 10.7 MB/s eta 0:00:01\n",
      "   -------------------------------- ------- 4.5/5.5 MB 10.3 MB/s eta 0:00:01\n",
      "   ---------------------------------------- 5.5/5.5 MB 9.1 MB/s eta 0:00:00\n",
      "Installing collected packages: numpy, tensorboard, tensorflow-intel, tensorflow\n",
      "  Attempting uninstall: numpy\n",
      "    Found existing installation: numpy 2.1.1\n",
      "    Uninstalling numpy-2.1.1:\n",
      "      Successfully uninstalled numpy-2.1.1\n",
      "  Attempting uninstall: tensorboard\n",
      "    Found existing installation: tensorboard 2.17.1\n",
      "    Uninstalling tensorboard-2.17.1:\n",
      "      Successfully uninstalled tensorboard-2.17.1\n",
      "Successfully installed numpy-2.0.2 tensorboard-2.18.0 tensorflow-2.18.0 tensorflow-intel-2.18.0\n"
     ]
    },
    {
     "name": "stderr",
     "output_type": "stream",
     "text": [
      "ERROR: pip's dependency resolver does not currently take into account all the packages that are installed. This behaviour is the source of the following dependency conflicts.\n",
      "langchain 0.2.16 requires numpy<2.0.0,>=1.26.0; python_version >= \"3.12\", but you have numpy 2.0.2 which is incompatible.\n",
      "langchain-community 0.2.16 requires numpy<2.0.0,>=1.26.0; python_version >= \"3.12\", but you have numpy 2.0.2 which is incompatible.\n",
      "\n",
      "[notice] A new release of pip is available: 24.2 -> 24.3.1\n",
      "[notice] To update, run: python.exe -m pip install --upgrade pip\n"
     ]
    }
   ],
   "source": [
    "!pip install tensorflow\n"
   ]
  },
  {
   "cell_type": "code",
   "execution_count": 6,
   "metadata": {},
   "outputs": [
    {
     "ename": "ModuleNotFoundError",
     "evalue": "No module named 'tensorflow'",
     "output_type": "error",
     "traceback": [
      "\u001b[1;31m---------------------------------------------------------------------------\u001b[0m",
      "\u001b[1;31mModuleNotFoundError\u001b[0m                       Traceback (most recent call last)",
      "Cell \u001b[1;32mIn[6], line 2\u001b[0m\n\u001b[0;32m      1\u001b[0m \u001b[38;5;28;01mimport\u001b[39;00m \u001b[38;5;21;01mnumpy\u001b[39;00m \u001b[38;5;28;01mas\u001b[39;00m \u001b[38;5;21;01mnp\u001b[39;00m\n\u001b[1;32m----> 2\u001b[0m \u001b[38;5;28;01mimport\u001b[39;00m \u001b[38;5;21;01mtensorflow\u001b[39;00m \u001b[38;5;28;01mas\u001b[39;00m \u001b[38;5;21;01mtf\u001b[39;00m\n",
      "\u001b[1;31mModuleNotFoundError\u001b[0m: No module named 'tensorflow'"
     ]
    }
   ],
   "source": [
    "import numpy as np\n",
    "import tensorflow as tf\n"
   ]
  },
  {
   "cell_type": "code",
   "execution_count": 5,
   "metadata": {},
   "outputs": [
    {
     "name": "stdout",
     "output_type": "stream",
     "text": [
      "Requirement already satisfied: notebook in c:\\users\\sajid\\.jupyter\\anaconda.installed\\lib\\site-packages (6.5.4)\n",
      "Collecting notebook\n",
      "  Obtaining dependency information for notebook from https://files.pythonhosted.org/packages/46/77/53732fbf48196af9e51c2a61833471021c1d77d335d57b96ee3588c0c53d/notebook-7.2.2-py3-none-any.whl.metadata\n",
      "  Downloading notebook-7.2.2-py3-none-any.whl.metadata (10 kB)\n",
      "Collecting jupyter-server<3,>=2.4.0 (from notebook)\n",
      "  Obtaining dependency information for jupyter-server<3,>=2.4.0 from https://files.pythonhosted.org/packages/57/e1/085edea6187a127ca8ea053eb01f4e1792d778b4d192c74d32eb6730fed6/jupyter_server-2.14.2-py3-none-any.whl.metadata\n",
      "  Downloading jupyter_server-2.14.2-py3-none-any.whl.metadata (8.4 kB)\n",
      "Collecting jupyterlab-server<3,>=2.27.1 (from notebook)\n",
      "  Obtaining dependency information for jupyterlab-server<3,>=2.27.1 from https://files.pythonhosted.org/packages/54/09/2032e7d15c544a0e3cd831c51d77a8ca57f7555b2e1b2922142eddb02a84/jupyterlab_server-2.27.3-py3-none-any.whl.metadata\n",
      "  Downloading jupyterlab_server-2.27.3-py3-none-any.whl.metadata (5.9 kB)\n",
      "Collecting jupyterlab<4.3,>=4.2.0 (from notebook)\n",
      "  Obtaining dependency information for jupyterlab<4.3,>=4.2.0 from https://files.pythonhosted.org/packages/f0/04/853abc46fef36afd4e5f9a4fd1fbc1b477f910a29bb71711b6653098b703/jupyterlab-4.2.6-py3-none-any.whl.metadata\n",
      "  Downloading jupyterlab-4.2.6-py3-none-any.whl.metadata (16 kB)\n",
      "Requirement already satisfied: notebook-shim<0.3,>=0.2 in c:\\users\\sajid\\.jupyter\\anaconda.installed\\lib\\site-packages (from notebook) (0.2.2)\n",
      "Requirement already satisfied: tornado>=6.2.0 in c:\\users\\sajid\\.jupyter\\anaconda.installed\\lib\\site-packages (from notebook) (6.3.2)\n",
      "Requirement already satisfied: anyio>=3.1.0 in c:\\users\\sajid\\.jupyter\\anaconda.installed\\lib\\site-packages (from jupyter-server<3,>=2.4.0->notebook) (3.5.0)\n",
      "Requirement already satisfied: argon2-cffi>=21.1 in c:\\users\\sajid\\.jupyter\\anaconda.installed\\lib\\site-packages (from jupyter-server<3,>=2.4.0->notebook) (21.3.0)\n",
      "Requirement already satisfied: jinja2>=3.0.3 in c:\\users\\sajid\\.jupyter\\anaconda.installed\\lib\\site-packages (from jupyter-server<3,>=2.4.0->notebook) (3.1.2)\n",
      "Requirement already satisfied: jupyter-client>=7.4.4 in c:\\users\\sajid\\.jupyter\\anaconda.installed\\lib\\site-packages (from jupyter-server<3,>=2.4.0->notebook) (7.4.9)\n",
      "Requirement already satisfied: jupyter-core!=5.0.*,>=4.12 in c:\\users\\sajid\\.jupyter\\anaconda.installed\\lib\\site-packages (from jupyter-server<3,>=2.4.0->notebook) (5.3.0)\n",
      "Collecting jupyter-events>=0.9.0 (from jupyter-server<3,>=2.4.0->notebook)\n",
      "  Obtaining dependency information for jupyter-events>=0.9.0 from https://files.pythonhosted.org/packages/a5/94/059180ea70a9a326e1815176b2370da56376da347a796f8c4f0b830208ef/jupyter_events-0.10.0-py3-none-any.whl.metadata\n",
      "  Downloading jupyter_events-0.10.0-py3-none-any.whl.metadata (5.9 kB)\n",
      "Collecting jupyter-server-terminals>=0.4.4 (from jupyter-server<3,>=2.4.0->notebook)\n",
      "  Obtaining dependency information for jupyter-server-terminals>=0.4.4 from https://files.pythonhosted.org/packages/07/2d/2b32cdbe8d2a602f697a649798554e4f072115438e92249624e532e8aca6/jupyter_server_terminals-0.5.3-py3-none-any.whl.metadata\n",
      "  Downloading jupyter_server_terminals-0.5.3-py3-none-any.whl.metadata (5.6 kB)\n",
      "Requirement already satisfied: nbconvert>=6.4.4 in c:\\users\\sajid\\.jupyter\\anaconda.installed\\lib\\site-packages (from jupyter-server<3,>=2.4.0->notebook) (6.5.4)\n",
      "Requirement already satisfied: nbformat>=5.3.0 in c:\\users\\sajid\\.jupyter\\anaconda.installed\\lib\\site-packages (from jupyter-server<3,>=2.4.0->notebook) (5.7.0)\n",
      "Collecting overrides>=5.0 (from jupyter-server<3,>=2.4.0->notebook)\n",
      "  Obtaining dependency information for overrides>=5.0 from https://files.pythonhosted.org/packages/2c/ab/fc8290c6a4c722e5514d80f62b2dc4c4df1a68a41d1364e625c35990fcf3/overrides-7.7.0-py3-none-any.whl.metadata\n",
      "  Downloading overrides-7.7.0-py3-none-any.whl.metadata (5.8 kB)\n",
      "Requirement already satisfied: packaging>=22.0 in c:\\users\\sajid\\.jupyter\\anaconda.installed\\lib\\site-packages (from jupyter-server<3,>=2.4.0->notebook) (23.0)\n",
      "Requirement already satisfied: prometheus-client>=0.9 in c:\\users\\sajid\\.jupyter\\anaconda.installed\\lib\\site-packages (from jupyter-server<3,>=2.4.0->notebook) (0.14.1)\n",
      "Requirement already satisfied: pywinpty>=2.0.1 in c:\\users\\sajid\\.jupyter\\anaconda.installed\\lib\\site-packages (from jupyter-server<3,>=2.4.0->notebook) (2.0.10)\n",
      "Collecting pyzmq>=24 (from jupyter-server<3,>=2.4.0->notebook)\n",
      "  Obtaining dependency information for pyzmq>=24 from https://files.pythonhosted.org/packages/3b/1b/0a540edd75a41df14ec416a9a500b9fec66e554aac920d4c58fbd5756776/pyzmq-26.2.0-cp311-cp311-win_amd64.whl.metadata\n",
      "  Downloading pyzmq-26.2.0-cp311-cp311-win_amd64.whl.metadata (6.2 kB)\n",
      "Collecting send2trash>=1.8.2 (from jupyter-server<3,>=2.4.0->notebook)\n",
      "  Obtaining dependency information for send2trash>=1.8.2 from https://files.pythonhosted.org/packages/40/b0/4562db6223154aa4e22f939003cb92514c79f3d4dccca3444253fd17f902/Send2Trash-1.8.3-py3-none-any.whl.metadata\n",
      "  Downloading Send2Trash-1.8.3-py3-none-any.whl.metadata (4.0 kB)\n",
      "Requirement already satisfied: terminado>=0.8.3 in c:\\users\\sajid\\.jupyter\\anaconda.installed\\lib\\site-packages (from jupyter-server<3,>=2.4.0->notebook) (0.17.1)\n",
      "Requirement already satisfied: traitlets>=5.6.0 in c:\\users\\sajid\\.jupyter\\anaconda.installed\\lib\\site-packages (from jupyter-server<3,>=2.4.0->notebook) (5.7.1)\n",
      "Collecting websocket-client>=1.7 (from jupyter-server<3,>=2.4.0->notebook)\n",
      "  Obtaining dependency information for websocket-client>=1.7 from https://files.pythonhosted.org/packages/5a/84/44687a29792a70e111c5c477230a72c4b957d88d16141199bf9acb7537a3/websocket_client-1.8.0-py3-none-any.whl.metadata\n",
      "  Downloading websocket_client-1.8.0-py3-none-any.whl.metadata (8.0 kB)\n",
      "Collecting async-lru>=1.0.0 (from jupyterlab<4.3,>=4.2.0->notebook)\n",
      "  Obtaining dependency information for async-lru>=1.0.0 from https://files.pythonhosted.org/packages/fa/9f/3c3503693386c4b0f245eaf5ca6198e3b28879ca0a40bde6b0e319793453/async_lru-2.0.4-py3-none-any.whl.metadata\n",
      "  Downloading async_lru-2.0.4-py3-none-any.whl.metadata (4.5 kB)\n",
      "Requirement already satisfied: httpx>=0.25.0 in c:\\users\\sajid\\.jupyter\\anaconda.installed\\lib\\site-packages (from jupyterlab<4.3,>=4.2.0->notebook) (0.27.2)\n",
      "Requirement already satisfied: ipykernel>=6.5.0 in c:\\users\\sajid\\.jupyter\\anaconda.installed\\lib\\site-packages (from jupyterlab<4.3,>=4.2.0->notebook) (6.19.2)\n",
      "Collecting jupyter-lsp>=2.0.0 (from jupyterlab<4.3,>=4.2.0->notebook)\n",
      "  Obtaining dependency information for jupyter-lsp>=2.0.0 from https://files.pythonhosted.org/packages/07/e0/7bd7cff65594fd9936e2f9385701e44574fc7d721331ff676ce440b14100/jupyter_lsp-2.2.5-py3-none-any.whl.metadata\n",
      "  Downloading jupyter_lsp-2.2.5-py3-none-any.whl.metadata (1.8 kB)\n",
      "Requirement already satisfied: setuptools>=40.1.0 in c:\\users\\sajid\\.jupyter\\anaconda.installed\\lib\\site-packages (from jupyterlab<4.3,>=4.2.0->notebook) (68.0.0)\n",
      "Requirement already satisfied: babel>=2.10 in c:\\users\\sajid\\.jupyter\\anaconda.installed\\lib\\site-packages (from jupyterlab-server<3,>=2.27.1->notebook) (2.11.0)\n",
      "Requirement already satisfied: json5>=0.9.0 in c:\\users\\sajid\\.jupyter\\anaconda.installed\\lib\\site-packages (from jupyterlab-server<3,>=2.27.1->notebook) (0.9.6)\n",
      "Collecting jsonschema>=4.18.0 (from jupyterlab-server<3,>=2.27.1->notebook)\n",
      "  Obtaining dependency information for jsonschema>=4.18.0 from https://files.pythonhosted.org/packages/69/4a/4f9dbeb84e8850557c02365a0eee0649abe5eb1d84af92a25731c6c0f922/jsonschema-4.23.0-py3-none-any.whl.metadata\n",
      "  Downloading jsonschema-4.23.0-py3-none-any.whl.metadata (7.9 kB)\n",
      "Requirement already satisfied: requests>=2.31 in c:\\users\\sajid\\.jupyter\\anaconda.installed\\lib\\site-packages (from jupyterlab-server<3,>=2.27.1->notebook) (2.31.0)\n",
      "Requirement already satisfied: idna>=2.8 in c:\\users\\sajid\\.jupyter\\anaconda.installed\\lib\\site-packages (from anyio>=3.1.0->jupyter-server<3,>=2.4.0->notebook) (3.4)\n",
      "Requirement already satisfied: sniffio>=1.1 in c:\\users\\sajid\\.jupyter\\anaconda.installed\\lib\\site-packages (from anyio>=3.1.0->jupyter-server<3,>=2.4.0->notebook) (1.2.0)\n",
      "Requirement already satisfied: argon2-cffi-bindings in c:\\users\\sajid\\.jupyter\\anaconda.installed\\lib\\site-packages (from argon2-cffi>=21.1->jupyter-server<3,>=2.4.0->notebook) (21.2.0)\n",
      "Requirement already satisfied: pytz>=2015.7 in c:\\users\\sajid\\.jupyter\\anaconda.installed\\lib\\site-packages (from babel>=2.10->jupyterlab-server<3,>=2.27.1->notebook) (2022.7)\n",
      "Requirement already satisfied: certifi in c:\\users\\sajid\\.jupyter\\anaconda.installed\\lib\\site-packages (from httpx>=0.25.0->jupyterlab<4.3,>=4.2.0->notebook) (2023.7.22)\n",
      "Requirement already satisfied: httpcore==1.* in c:\\users\\sajid\\.jupyter\\anaconda.installed\\lib\\site-packages (from httpx>=0.25.0->jupyterlab<4.3,>=4.2.0->notebook) (1.0.5)\n",
      "Requirement already satisfied: h11<0.15,>=0.13 in c:\\users\\sajid\\.jupyter\\anaconda.installed\\lib\\site-packages (from httpcore==1.*->httpx>=0.25.0->jupyterlab<4.3,>=4.2.0->notebook) (0.14.0)\n",
      "Requirement already satisfied: comm>=0.1.1 in c:\\users\\sajid\\.jupyter\\anaconda.installed\\lib\\site-packages (from ipykernel>=6.5.0->jupyterlab<4.3,>=4.2.0->notebook) (0.1.2)\n",
      "Requirement already satisfied: debugpy>=1.0 in c:\\users\\sajid\\.jupyter\\anaconda.installed\\lib\\site-packages (from ipykernel>=6.5.0->jupyterlab<4.3,>=4.2.0->notebook) (1.6.7)\n",
      "Requirement already satisfied: ipython>=7.23.1 in c:\\users\\sajid\\.jupyter\\anaconda.installed\\lib\\site-packages (from ipykernel>=6.5.0->jupyterlab<4.3,>=4.2.0->notebook) (8.12.0)\n",
      "Requirement already satisfied: matplotlib-inline>=0.1 in c:\\users\\sajid\\.jupyter\\anaconda.installed\\lib\\site-packages (from ipykernel>=6.5.0->jupyterlab<4.3,>=4.2.0->notebook) (0.1.6)\n",
      "Requirement already satisfied: nest-asyncio in c:\\users\\sajid\\.jupyter\\anaconda.installed\\lib\\site-packages (from ipykernel>=6.5.0->jupyterlab<4.3,>=4.2.0->notebook) (1.5.6)\n",
      "Requirement already satisfied: psutil in c:\\users\\sajid\\.jupyter\\anaconda.installed\\lib\\site-packages (from ipykernel>=6.5.0->jupyterlab<4.3,>=4.2.0->notebook) (5.9.0)\n",
      "Requirement already satisfied: MarkupSafe>=2.0 in c:\\users\\sajid\\.jupyter\\anaconda.installed\\lib\\site-packages (from jinja2>=3.0.3->jupyter-server<3,>=2.4.0->notebook) (2.1.1)\n",
      "Collecting attrs>=22.2.0 (from jsonschema>=4.18.0->jupyterlab-server<3,>=2.27.1->notebook)\n",
      "  Obtaining dependency information for attrs>=22.2.0 from https://files.pythonhosted.org/packages/6a/21/5b6702a7f963e95456c0de2d495f67bf5fd62840ac655dc451586d23d39a/attrs-24.2.0-py3-none-any.whl.metadata\n",
      "  Downloading attrs-24.2.0-py3-none-any.whl.metadata (11 kB)\n",
      "Collecting jsonschema-specifications>=2023.03.6 (from jsonschema>=4.18.0->jupyterlab-server<3,>=2.27.1->notebook)\n",
      "  Obtaining dependency information for jsonschema-specifications>=2023.03.6 from https://files.pythonhosted.org/packages/d1/0f/8910b19ac0670a0f80ce1008e5e751c4a57e14d2c4c13a482aa6079fa9d6/jsonschema_specifications-2024.10.1-py3-none-any.whl.metadata\n",
      "  Downloading jsonschema_specifications-2024.10.1-py3-none-any.whl.metadata (3.0 kB)\n",
      "Collecting referencing>=0.28.4 (from jsonschema>=4.18.0->jupyterlab-server<3,>=2.27.1->notebook)\n",
      "  Obtaining dependency information for referencing>=0.28.4 from https://files.pythonhosted.org/packages/b7/59/2056f61236782a2c86b33906c025d4f4a0b17be0161b63b70fd9e8775d36/referencing-0.35.1-py3-none-any.whl.metadata\n",
      "  Downloading referencing-0.35.1-py3-none-any.whl.metadata (2.8 kB)\n",
      "Collecting rpds-py>=0.7.1 (from jsonschema>=4.18.0->jupyterlab-server<3,>=2.27.1->notebook)\n",
      "  Obtaining dependency information for rpds-py>=0.7.1 from https://files.pythonhosted.org/packages/68/fa/e66c3aaf13ef91c203ba47c102cd7c5dca92dde8837e5093577968d6d36d/rpds_py-0.21.0-cp311-none-win_amd64.whl.metadata\n",
      "  Downloading rpds_py-0.21.0-cp311-none-win_amd64.whl.metadata (4.2 kB)\n",
      "Requirement already satisfied: entrypoints in c:\\users\\sajid\\.jupyter\\anaconda.installed\\lib\\site-packages (from jupyter-client>=7.4.4->jupyter-server<3,>=2.4.0->notebook) (0.4)\n",
      "Requirement already satisfied: python-dateutil>=2.8.2 in c:\\users\\sajid\\.jupyter\\anaconda.installed\\lib\\site-packages (from jupyter-client>=7.4.4->jupyter-server<3,>=2.4.0->notebook) (2.8.2)\n",
      "Requirement already satisfied: platformdirs>=2.5 in c:\\users\\sajid\\.jupyter\\anaconda.installed\\lib\\site-packages (from jupyter-core!=5.0.*,>=4.12->jupyter-server<3,>=2.4.0->notebook) (2.5.2)\n",
      "Requirement already satisfied: pywin32>=300 in c:\\users\\sajid\\.jupyter\\anaconda.installed\\lib\\site-packages (from jupyter-core!=5.0.*,>=4.12->jupyter-server<3,>=2.4.0->notebook) (305.1)\n",
      "Requirement already satisfied: python-json-logger>=2.0.4 in c:\\users\\sajid\\.jupyter\\anaconda.installed\\lib\\site-packages (from jupyter-events>=0.9.0->jupyter-server<3,>=2.4.0->notebook) (2.0.7)\n",
      "Requirement already satisfied: pyyaml>=5.3 in c:\\users\\sajid\\.jupyter\\anaconda.installed\\lib\\site-packages (from jupyter-events>=0.9.0->jupyter-server<3,>=2.4.0->notebook) (6.0)\n",
      "Requirement already satisfied: rfc3339-validator in c:\\users\\sajid\\.jupyter\\anaconda.installed\\lib\\site-packages (from jupyter-events>=0.9.0->jupyter-server<3,>=2.4.0->notebook) (0.1.4)\n",
      "Requirement already satisfied: rfc3986-validator>=0.1.1 in c:\\users\\sajid\\.jupyter\\anaconda.installed\\lib\\site-packages (from jupyter-events>=0.9.0->jupyter-server<3,>=2.4.0->notebook) (0.1.1)\n",
      "Requirement already satisfied: lxml in c:\\users\\sajid\\.jupyter\\anaconda.installed\\lib\\site-packages (from nbconvert>=6.4.4->jupyter-server<3,>=2.4.0->notebook) (4.9.2)\n",
      "Requirement already satisfied: beautifulsoup4 in c:\\users\\sajid\\.jupyter\\anaconda.installed\\lib\\site-packages (from nbconvert>=6.4.4->jupyter-server<3,>=2.4.0->notebook) (4.12.2)\n",
      "Requirement already satisfied: bleach in c:\\users\\sajid\\.jupyter\\anaconda.installed\\lib\\site-packages (from nbconvert>=6.4.4->jupyter-server<3,>=2.4.0->notebook) (4.1.0)\n",
      "Requirement already satisfied: defusedxml in c:\\users\\sajid\\.jupyter\\anaconda.installed\\lib\\site-packages (from nbconvert>=6.4.4->jupyter-server<3,>=2.4.0->notebook) (0.7.1)\n",
      "Requirement already satisfied: jupyterlab-pygments in c:\\users\\sajid\\.jupyter\\anaconda.installed\\lib\\site-packages (from nbconvert>=6.4.4->jupyter-server<3,>=2.4.0->notebook) (0.1.2)\n",
      "Requirement already satisfied: mistune<2,>=0.8.1 in c:\\users\\sajid\\.jupyter\\anaconda.installed\\lib\\site-packages (from nbconvert>=6.4.4->jupyter-server<3,>=2.4.0->notebook) (0.8.4)\n",
      "Requirement already satisfied: nbclient>=0.5.0 in c:\\users\\sajid\\.jupyter\\anaconda.installed\\lib\\site-packages (from nbconvert>=6.4.4->jupyter-server<3,>=2.4.0->notebook) (0.5.13)\n",
      "Requirement already satisfied: pandocfilters>=1.4.1 in c:\\users\\sajid\\.jupyter\\anaconda.installed\\lib\\site-packages (from nbconvert>=6.4.4->jupyter-server<3,>=2.4.0->notebook) (1.5.0)\n",
      "Requirement already satisfied: pygments>=2.4.1 in c:\\users\\sajid\\.jupyter\\anaconda.installed\\lib\\site-packages (from nbconvert>=6.4.4->jupyter-server<3,>=2.4.0->notebook) (2.15.1)\n",
      "Requirement already satisfied: tinycss2 in c:\\users\\sajid\\.jupyter\\anaconda.installed\\lib\\site-packages (from nbconvert>=6.4.4->jupyter-server<3,>=2.4.0->notebook) (1.2.1)\n",
      "Requirement already satisfied: fastjsonschema in c:\\users\\sajid\\.jupyter\\anaconda.installed\\lib\\site-packages (from nbformat>=5.3.0->jupyter-server<3,>=2.4.0->notebook) (2.16.2)\n",
      "Requirement already satisfied: charset-normalizer<4,>=2 in c:\\users\\sajid\\.jupyter\\anaconda.installed\\lib\\site-packages (from requests>=2.31->jupyterlab-server<3,>=2.27.1->notebook) (2.0.4)\n",
      "Requirement already satisfied: urllib3<3,>=1.21.1 in c:\\users\\sajid\\.jupyter\\anaconda.installed\\lib\\site-packages (from requests>=2.31->jupyterlab-server<3,>=2.27.1->notebook) (1.26.16)\n",
      "Requirement already satisfied: backcall in c:\\users\\sajid\\.jupyter\\anaconda.installed\\lib\\site-packages (from ipython>=7.23.1->ipykernel>=6.5.0->jupyterlab<4.3,>=4.2.0->notebook) (0.2.0)\n",
      "Requirement already satisfied: decorator in c:\\users\\sajid\\.jupyter\\anaconda.installed\\lib\\site-packages (from ipython>=7.23.1->ipykernel>=6.5.0->jupyterlab<4.3,>=4.2.0->notebook) (5.1.1)\n",
      "Requirement already satisfied: jedi>=0.16 in c:\\users\\sajid\\.jupyter\\anaconda.installed\\lib\\site-packages (from ipython>=7.23.1->ipykernel>=6.5.0->jupyterlab<4.3,>=4.2.0->notebook) (0.18.1)\n",
      "Requirement already satisfied: pickleshare in c:\\users\\sajid\\.jupyter\\anaconda.installed\\lib\\site-packages (from ipython>=7.23.1->ipykernel>=6.5.0->jupyterlab<4.3,>=4.2.0->notebook) (0.7.5)\n",
      "Requirement already satisfied: prompt-toolkit!=3.0.37,<3.1.0,>=3.0.30 in c:\\users\\sajid\\.jupyter\\anaconda.installed\\lib\\site-packages (from ipython>=7.23.1->ipykernel>=6.5.0->jupyterlab<4.3,>=4.2.0->notebook) (3.0.36)\n",
      "Requirement already satisfied: stack-data in c:\\users\\sajid\\.jupyter\\anaconda.installed\\lib\\site-packages (from ipython>=7.23.1->ipykernel>=6.5.0->jupyterlab<4.3,>=4.2.0->notebook) (0.2.0)\n",
      "Requirement already satisfied: colorama in c:\\users\\sajid\\.jupyter\\anaconda.installed\\lib\\site-packages (from ipython>=7.23.1->ipykernel>=6.5.0->jupyterlab<4.3,>=4.2.0->notebook) (0.4.6)\n",
      "Collecting fqdn (from jsonschema>=4.18.0->jupyterlab-server<3,>=2.27.1->notebook)\n",
      "  Obtaining dependency information for fqdn from https://files.pythonhosted.org/packages/cf/58/8acf1b3e91c58313ce5cb67df61001fc9dcd21be4fadb76c1a2d540e09ed/fqdn-1.5.1-py3-none-any.whl.metadata\n",
      "  Downloading fqdn-1.5.1-py3-none-any.whl.metadata (1.4 kB)\n",
      "Collecting isoduration (from jsonschema>=4.18.0->jupyterlab-server<3,>=2.27.1->notebook)\n",
      "  Obtaining dependency information for isoduration from https://files.pythonhosted.org/packages/7b/55/e5326141505c5d5e34c5e0935d2908a74e4561eca44108fbfb9c13d2911a/isoduration-20.11.0-py3-none-any.whl.metadata\n",
      "  Downloading isoduration-20.11.0-py3-none-any.whl.metadata (5.7 kB)\n",
      "Requirement already satisfied: jsonpointer>1.13 in c:\\users\\sajid\\.jupyter\\anaconda.installed\\lib\\site-packages (from jsonschema>=4.18.0->jupyterlab-server<3,>=2.27.1->notebook) (2.1)\n",
      "Collecting uri-template (from jsonschema>=4.18.0->jupyterlab-server<3,>=2.27.1->notebook)\n",
      "  Obtaining dependency information for uri-template from https://files.pythonhosted.org/packages/e7/00/3fca040d7cf8a32776d3d81a00c8ee7457e00f80c649f1e4a863c8321ae9/uri_template-1.3.0-py3-none-any.whl.metadata\n",
      "  Downloading uri_template-1.3.0-py3-none-any.whl.metadata (8.8 kB)\n",
      "Collecting webcolors>=24.6.0 (from jsonschema>=4.18.0->jupyterlab-server<3,>=2.27.1->notebook)\n",
      "  Obtaining dependency information for webcolors>=24.6.0 from https://files.pythonhosted.org/packages/60/e8/c0e05e4684d13459f93d312077a9a2efbe04d59c393bc2b8802248c908d4/webcolors-24.11.1-py3-none-any.whl.metadata\n",
      "  Downloading webcolors-24.11.1-py3-none-any.whl.metadata (2.2 kB)\n",
      "Requirement already satisfied: six>=1.5 in c:\\users\\sajid\\.jupyter\\anaconda.installed\\lib\\site-packages (from python-dateutil>=2.8.2->jupyter-client>=7.4.4->jupyter-server<3,>=2.4.0->notebook) (1.16.0)\n",
      "Requirement already satisfied: cffi>=1.0.1 in c:\\users\\sajid\\.jupyter\\anaconda.installed\\lib\\site-packages (from argon2-cffi-bindings->argon2-cffi>=21.1->jupyter-server<3,>=2.4.0->notebook) (1.15.1)\n",
      "Requirement already satisfied: soupsieve>1.2 in c:\\users\\sajid\\.jupyter\\anaconda.installed\\lib\\site-packages (from beautifulsoup4->nbconvert>=6.4.4->jupyter-server<3,>=2.4.0->notebook) (2.4)\n",
      "Requirement already satisfied: webencodings in c:\\users\\sajid\\.jupyter\\anaconda.installed\\lib\\site-packages (from bleach->nbconvert>=6.4.4->jupyter-server<3,>=2.4.0->notebook) (0.5.1)\n",
      "Requirement already satisfied: pycparser in c:\\users\\sajid\\.jupyter\\anaconda.installed\\lib\\site-packages (from cffi>=1.0.1->argon2-cffi-bindings->argon2-cffi>=21.1->jupyter-server<3,>=2.4.0->notebook) (2.21)\n",
      "Requirement already satisfied: parso<0.9.0,>=0.8.0 in c:\\users\\sajid\\.jupyter\\anaconda.installed\\lib\\site-packages (from jedi>=0.16->ipython>=7.23.1->ipykernel>=6.5.0->jupyterlab<4.3,>=4.2.0->notebook) (0.8.3)\n",
      "Requirement already satisfied: wcwidth in c:\\users\\sajid\\.jupyter\\anaconda.installed\\lib\\site-packages (from prompt-toolkit!=3.0.37,<3.1.0,>=3.0.30->ipython>=7.23.1->ipykernel>=6.5.0->jupyterlab<4.3,>=4.2.0->notebook) (0.2.5)\n",
      "Requirement already satisfied: arrow>=0.15.0 in c:\\users\\sajid\\.jupyter\\anaconda.installed\\lib\\site-packages (from isoduration->jsonschema>=4.18.0->jupyterlab-server<3,>=2.27.1->notebook) (1.2.3)\n",
      "Requirement already satisfied: executing in c:\\users\\sajid\\.jupyter\\anaconda.installed\\lib\\site-packages (from stack-data->ipython>=7.23.1->ipykernel>=6.5.0->jupyterlab<4.3,>=4.2.0->notebook) (0.8.3)\n",
      "Requirement already satisfied: asttokens in c:\\users\\sajid\\.jupyter\\anaconda.installed\\lib\\site-packages (from stack-data->ipython>=7.23.1->ipykernel>=6.5.0->jupyterlab<4.3,>=4.2.0->notebook) (2.0.5)\n",
      "Requirement already satisfied: pure-eval in c:\\users\\sajid\\.jupyter\\anaconda.installed\\lib\\site-packages (from stack-data->ipython>=7.23.1->ipykernel>=6.5.0->jupyterlab<4.3,>=4.2.0->notebook) (0.2.2)\n",
      "Downloading notebook-7.2.2-py3-none-any.whl (5.0 MB)\n",
      "   ---------------------------------------- 0.0/5.0 MB ? eta -:--:--\n",
      "   ---------------------------------------- 0.0/5.0 MB 1.3 MB/s eta 0:00:04\n",
      "    --------------------------------------- 0.1/5.0 MB 1.6 MB/s eta 0:00:04\n",
      "   - -------------------------------------- 0.2/5.0 MB 2.1 MB/s eta 0:00:03\n",
      "   -- ------------------------------------- 0.3/5.0 MB 2.3 MB/s eta 0:00:03\n",
      "   --- ------------------------------------ 0.5/5.0 MB 2.3 MB/s eta 0:00:02\n",
      "   ------ --------------------------------- 0.8/5.0 MB 3.0 MB/s eta 0:00:02\n",
      "   ------- -------------------------------- 0.9/5.0 MB 3.3 MB/s eta 0:00:02\n",
      "   --------- ------------------------------ 1.2/5.0 MB 3.4 MB/s eta 0:00:02\n",
      "   ---------- ----------------------------- 1.4/5.0 MB 3.5 MB/s eta 0:00:02\n",
      "   ----------- ---------------------------- 1.5/5.0 MB 3.4 MB/s eta 0:00:02\n",
      "   ------------- -------------------------- 1.7/5.0 MB 3.6 MB/s eta 0:00:01\n",
      "   --------------- ------------------------ 1.9/5.0 MB 3.6 MB/s eta 0:00:01\n",
      "   ---------------- ----------------------- 2.1/5.0 MB 3.7 MB/s eta 0:00:01\n",
      "   ----------------- ---------------------- 2.3/5.0 MB 3.6 MB/s eta 0:00:01\n",
      "   ------------------- -------------------- 2.4/5.0 MB 3.6 MB/s eta 0:00:01\n",
      "   ------------------- -------------------- 2.5/5.0 MB 3.7 MB/s eta 0:00:01\n",
      "   -------------------- ------------------- 2.5/5.0 MB 3.5 MB/s eta 0:00:01\n",
      "   ---------------------- ----------------- 2.9/5.0 MB 3.6 MB/s eta 0:00:01\n",
      "   ------------------------ --------------- 3.1/5.0 MB 3.8 MB/s eta 0:00:01\n",
      "   -------------------------- ------------- 3.4/5.0 MB 3.8 MB/s eta 0:00:01\n",
      "   --------------------------- ------------ 3.5/5.0 MB 3.7 MB/s eta 0:00:01\n",
      "   ----------------------------- ---------- 3.7/5.0 MB 3.7 MB/s eta 0:00:01\n",
      "   -------------------------------- ------- 4.1/5.0 MB 4.0 MB/s eta 0:00:01\n",
      "   ---------------------------------- ----- 4.4/5.0 MB 4.1 MB/s eta 0:00:01\n",
      "   ------------------------------------- -- 4.7/5.0 MB 4.2 MB/s eta 0:00:01\n",
      "   ---------------------------------------  4.9/5.0 MB 4.2 MB/s eta 0:00:01\n",
      "   ---------------------------------------  5.0/5.0 MB 4.3 MB/s eta 0:00:01\n",
      "   ---------------------------------------- 5.0/5.0 MB 4.1 MB/s eta 0:00:00\n",
      "Downloading jupyter_server-2.14.2-py3-none-any.whl (383 kB)\n",
      "   ---------------------------------------- 0.0/383.6 kB ? eta -:--:--\n",
      "   ------------------------------- ------- 307.2/383.6 kB 18.6 MB/s eta 0:00:01\n",
      "   ---------------------------------------- 383.6/383.6 kB 7.9 MB/s eta 0:00:00\n",
      "Downloading jupyterlab-4.2.6-py3-none-any.whl (11.6 MB)\n",
      "   ---------------------------------------- 0.0/11.6 MB ? eta -:--:--\n",
      "   - -------------------------------------- 0.5/11.6 MB 13.8 MB/s eta 0:00:01\n",
      "   -- ------------------------------------- 0.8/11.6 MB 10.8 MB/s eta 0:00:02\n",
      "   ---- ----------------------------------- 1.3/11.6 MB 10.1 MB/s eta 0:00:02\n",
      "   ----- ---------------------------------- 1.6/11.6 MB 10.2 MB/s eta 0:00:01\n",
      "   ------- -------------------------------- 2.3/11.6 MB 10.2 MB/s eta 0:00:01\n",
      "   --------- ------------------------------ 2.6/11.6 MB 10.5 MB/s eta 0:00:01\n",
      "   --------- ------------------------------ 2.8/11.6 MB 9.4 MB/s eta 0:00:01\n",
      "   ----------- ---------------------------- 3.2/11.6 MB 9.3 MB/s eta 0:00:01\n",
      "   ------------ --------------------------- 3.7/11.6 MB 9.1 MB/s eta 0:00:01\n",
      "   ------------- -------------------------- 3.9/11.6 MB 9.0 MB/s eta 0:00:01\n",
      "   -------------- ------------------------- 4.3/11.6 MB 8.3 MB/s eta 0:00:01\n",
      "   ---------------- ----------------------- 4.7/11.6 MB 8.3 MB/s eta 0:00:01\n",
      "   ----------------- ---------------------- 5.0/11.6 MB 8.3 MB/s eta 0:00:01\n",
      "   ------------------ --------------------- 5.5/11.6 MB 8.3 MB/s eta 0:00:01\n",
      "   -------------------- ------------------- 6.0/11.6 MB 8.5 MB/s eta 0:00:01\n",
      "   --------------------- ------------------ 6.3/11.6 MB 8.2 MB/s eta 0:00:01\n",
      "   ----------------------- ---------------- 6.7/11.6 MB 8.2 MB/s eta 0:00:01\n",
      "   ------------------------ --------------- 7.1/11.6 MB 8.3 MB/s eta 0:00:01\n",
      "   ------------------------- -------------- 7.5/11.6 MB 8.3 MB/s eta 0:00:01\n",
      "   --------------------------- ------------ 7.9/11.6 MB 8.3 MB/s eta 0:00:01\n",
      "   ---------------------------- ----------- 8.3/11.6 MB 8.3 MB/s eta 0:00:01\n",
      "   ----------------------------- ---------- 8.7/11.6 MB 8.4 MB/s eta 0:00:01\n",
      "   ------------------------------- -------- 9.1/11.6 MB 8.5 MB/s eta 0:00:01\n",
      "   -------------------------------- ------- 9.5/11.6 MB 8.4 MB/s eta 0:00:01\n",
      "   ---------------------------------- ----- 10.0/11.6 MB 8.4 MB/s eta 0:00:01\n",
      "   ----------------------------------- ---- 10.3/11.6 MB 8.3 MB/s eta 0:00:01\n",
      "   ------------------------------------ --- 10.7/11.6 MB 8.3 MB/s eta 0:00:01\n",
      "   ------------------------------------- -- 11.0/11.6 MB 8.3 MB/s eta 0:00:01\n",
      "   ---------------------------------------  11.4/11.6 MB 8.2 MB/s eta 0:00:01\n",
      "   ---------------------------------------  11.6/11.6 MB 8.0 MB/s eta 0:00:01\n",
      "   ---------------------------------------  11.6/11.6 MB 8.0 MB/s eta 0:00:01\n",
      "   ---------------------------------------- 11.6/11.6 MB 7.2 MB/s eta 0:00:00\n",
      "Downloading jupyterlab_server-2.27.3-py3-none-any.whl (59 kB)\n",
      "   ---------------------------------------- 0.0/59.7 kB ? eta -:--:--\n",
      "   ---------------------------------------- 59.7/59.7 kB ? eta 0:00:00\n",
      "Downloading async_lru-2.0.4-py3-none-any.whl (6.1 kB)\n",
      "Downloading jsonschema-4.23.0-py3-none-any.whl (88 kB)\n",
      "   ---------------------------------------- 0.0/88.5 kB ? eta -:--:--\n",
      "   ---------------------------------------- 88.5/88.5 kB 4.9 MB/s eta 0:00:00\n",
      "Downloading jupyter_events-0.10.0-py3-none-any.whl (18 kB)\n",
      "Downloading jupyter_lsp-2.2.5-py3-none-any.whl (69 kB)\n",
      "   ---------------------------------------- 0.0/69.1 kB ? eta -:--:--\n",
      "   ---------------------------------------- 69.1/69.1 kB ? eta 0:00:00\n",
      "Downloading jupyter_server_terminals-0.5.3-py3-none-any.whl (13 kB)\n",
      "Downloading overrides-7.7.0-py3-none-any.whl (17 kB)\n",
      "Downloading pyzmq-26.2.0-cp311-cp311-win_amd64.whl (642 kB)\n",
      "   ---------------------------------------- 0.0/642.3 kB ? eta -:--:--\n",
      "   -------------------- ------------------ 337.9/642.3 kB 10.6 MB/s eta 0:00:01\n",
      "   ---------------------------------------  634.9/642.3 kB 9.9 MB/s eta 0:00:01\n",
      "   ---------------------------------------- 642.3/642.3 kB 8.1 MB/s eta 0:00:00\n",
      "Downloading Send2Trash-1.8.3-py3-none-any.whl (18 kB)\n",
      "Downloading websocket_client-1.8.0-py3-none-any.whl (58 kB)\n",
      "   ---------------------------------------- 0.0/58.8 kB ? eta -:--:--\n",
      "   ---------------------------------------- 58.8/58.8 kB 3.0 MB/s eta 0:00:00\n",
      "Downloading attrs-24.2.0-py3-none-any.whl (63 kB)\n",
      "   ---------------------------------------- 0.0/63.0 kB ? eta -:--:--\n",
      "   ---------------------------------------- 63.0/63.0 kB 3.3 MB/s eta 0:00:00\n",
      "Downloading jsonschema_specifications-2024.10.1-py3-none-any.whl (18 kB)\n",
      "Downloading referencing-0.35.1-py3-none-any.whl (26 kB)\n",
      "Downloading rpds_py-0.21.0-cp311-none-win_amd64.whl (218 kB)\n",
      "   ---------------------------------------- 0.0/218.5 kB ? eta -:--:--\n",
      "   --------------------------------------- 218.5/218.5 kB 13.0 MB/s eta 0:00:00\n",
      "Downloading webcolors-24.11.1-py3-none-any.whl (14 kB)\n",
      "Downloading fqdn-1.5.1-py3-none-any.whl (9.1 kB)\n",
      "Downloading isoduration-20.11.0-py3-none-any.whl (11 kB)\n",
      "Downloading uri_template-1.3.0-py3-none-any.whl (11 kB)\n",
      "Installing collected packages: websocket-client, webcolors, uri-template, send2trash, rpds-py, pyzmq, overrides, fqdn, attrs, async-lru, referencing, jupyter-server-terminals, jsonschema-specifications, isoduration, jsonschema, jupyter-events, jupyter-server, jupyterlab-server, jupyter-lsp, jupyterlab, notebook\n",
      "  Attempting uninstall: websocket-client\n",
      "    Found existing installation: websocket-client 0.58.0\n",
      "    Uninstalling websocket-client-0.58.0:\n",
      "      Successfully uninstalled websocket-client-0.58.0\n",
      "  Attempting uninstall: send2trash\n",
      "    Found existing installation: Send2Trash 1.8.0\n",
      "    Uninstalling Send2Trash-1.8.0:\n",
      "      Successfully uninstalled Send2Trash-1.8.0\n",
      "  Attempting uninstall: pyzmq\n",
      "    Found existing installation: pyzmq 23.2.0\n",
      "    Uninstalling pyzmq-23.2.0:\n",
      "      Successfully uninstalled pyzmq-23.2.0\n",
      "Note: you may need to restart the kernel to use updated packages.\n"
     ]
    },
    {
     "name": "stderr",
     "output_type": "stream",
     "text": [
      "ERROR: Could not install packages due to an OSError: [WinError 5] Access is denied: 'C:\\\\Users\\\\SAJID\\\\.jupyter\\\\anaconda.installed\\\\Lib\\\\site-packages\\\\~mq\\\\backend\\\\cython\\\\context.cp311-win_amd64.pyd'\n",
      "Consider using the `--user` option or check the permissions.\n",
      "\n"
     ]
    }
   ],
   "source": [
    "pip install --upgrade notebook\n"
   ]
  },
  {
   "cell_type": "code",
   "execution_count": null,
   "metadata": {
    "id": "8YMFvnqQflcb"
   },
   "outputs": [],
   "source": [
    "Data Load"
   ]
  },
  {
   "cell_type": "markdown",
   "metadata": {
    "id": "xHIRy-bvfpyl"
   },
   "source": [
    "**Loading Data**"
   ]
  },
  {
   "cell_type": "code",
   "execution_count": 7,
   "metadata": {
    "colab": {
     "base_uri": "https://localhost:8080/"
    },
    "id": "0u__-1l4Qvkc",
    "outputId": "df685998-fff6-45c2-f267-f449c9735ee2"
   },
   "outputs": [
    {
     "ename": "ModuleNotFoundError",
     "evalue": "No module named 'tensorflow'",
     "output_type": "error",
     "traceback": [
      "\u001b[1;31m---------------------------------------------------------------------------\u001b[0m",
      "\u001b[1;31mModuleNotFoundError\u001b[0m                       Traceback (most recent call last)",
      "Cell \u001b[1;32mIn[7], line 1\u001b[0m\n\u001b[1;32m----> 1\u001b[0m \u001b[38;5;28;01mfrom\u001b[39;00m \u001b[38;5;21;01mtensorflow\u001b[39;00m\u001b[38;5;21;01m.\u001b[39;00m\u001b[38;5;21;01mkeras\u001b[39;00m\u001b[38;5;21;01m.\u001b[39;00m\u001b[38;5;21;01mdatasets\u001b[39;00m \u001b[38;5;28;01mimport\u001b[39;00m mnist\n\u001b[0;32m      2\u001b[0m (train_images, train_labels), (test_images, test_labels) \u001b[38;5;241m=\u001b[39m mnist\u001b[38;5;241m.\u001b[39mload_data()\n",
      "\u001b[1;31mModuleNotFoundError\u001b[0m: No module named 'tensorflow'"
     ]
    }
   ],
   "source": [
    "from tensorflow.keras.datasets import mnist\n",
    "(train_images, train_labels), (test_images, test_labels) = mnist.load_data()"
   ]
  },
  {
   "cell_type": "code",
   "execution_count": null,
   "metadata": {
    "id": "DYasNGMkfzEM"
   },
   "outputs": [],
   "source": []
  },
  {
   "cell_type": "markdown",
   "metadata": {
    "id": "QONUtmjufzfv"
   },
   "source": [
    "**Network Architecture Design**"
   ]
  },
  {
   "cell_type": "code",
   "execution_count": 17,
   "metadata": {
    "colab": {
     "base_uri": "https://localhost:8080/"
    },
    "id": "yzxXd3GHQ1L3",
    "outputId": "aa800945-7b66-440e-e114-7234a93db522"
   },
   "outputs": [
    {
     "name": "stderr",
     "output_type": "stream",
     "text": [
      "/usr/local/lib/python3.10/dist-packages/keras/src/layers/core/dense.py:87: UserWarning: Do not pass an `input_shape`/`input_dim` argument to a layer. When using Sequential models, prefer using an `Input(shape)` object as the first layer in the model instead.\n",
      "  super().__init__(activity_regularizer=activity_regularizer, **kwargs)\n"
     ]
    }
   ],
   "source": [
    "from tensorflow.keras import models\n",
    "from tensorflow.keras import layers\n",
    "network = models.Sequential()\n",
    "network.add(layers.Dense(512, activation='relu', input_shape=(784,)))\n",
    "network.add(layers.Dense(10, activation='softmax'))"
   ]
  },
  {
   "cell_type": "markdown",
   "metadata": {
    "id": "8P9E5jcWf4rJ"
   },
   "source": [
    "**Network Compilation**"
   ]
  },
  {
   "cell_type": "code",
   "execution_count": 18,
   "metadata": {
    "id": "b4Ntd-fiQ7zV"
   },
   "outputs": [],
   "source": [
    "network.compile(optimizer='rmsprop',loss='categorical_crossentropy',metrics=['accuracy'])"
   ]
  },
  {
   "cell_type": "code",
   "execution_count": null,
   "metadata": {
    "id": "Sb7bP1hjh1Hd"
   },
   "outputs": [],
   "source": []
  },
  {
   "cell_type": "markdown",
   "metadata": {
    "id": "VZx5-N1Fh2hv"
   },
   "source": [
    "**Data Transformed as per required by the nueral network**"
   ]
  },
  {
   "cell_type": "code",
   "execution_count": 19,
   "metadata": {
    "id": "uD1Wt1LkQ_2n"
   },
   "outputs": [],
   "source": [
    "train_images = train_images.reshape((60000, 784))\n",
    "train_images = train_images.astype('float32') / 255\n",
    "test_images = test_images.reshape((10000, 784))\n",
    "test_images = test_images.astype('float32') / 255"
   ]
  },
  {
   "cell_type": "code",
   "execution_count": 20,
   "metadata": {
    "colab": {
     "base_uri": "https://localhost:8080/"
    },
    "id": "yf0gKLIzhXrl",
    "outputId": "ae75d103-ad4f-4340-d44b-9d35fba8c33c"
   },
   "outputs": [
    {
     "data": {
      "text/plain": [
       "array([5, 0, 4, ..., 5, 6, 8], dtype=uint8)"
      ]
     },
     "execution_count": 20,
     "metadata": {},
     "output_type": "execute_result"
    }
   ],
   "source": [
    "train_labels"
   ]
  },
  {
   "cell_type": "code",
   "execution_count": 21,
   "metadata": {
    "id": "x5e3f4r7RC5C"
   },
   "outputs": [],
   "source": [
    "from tensorflow.keras.utils import to_categorical\n",
    "train_labels = to_categorical(train_labels)\n",
    "test_labels = to_categorical(test_labels)"
   ]
  },
  {
   "cell_type": "code",
   "execution_count": 22,
   "metadata": {
    "colab": {
     "base_uri": "https://localhost:8080/"
    },
    "id": "EB7zA6K4hnmy",
    "outputId": "6a09ec93-255e-4e32-f8cf-ba6ee1f3baeb"
   },
   "outputs": [
    {
     "data": {
      "text/plain": [
       "array([[0., 0., 0., ..., 0., 0., 0.],\n",
       "       [1., 0., 0., ..., 0., 0., 0.],\n",
       "       [0., 0., 0., ..., 0., 0., 0.],\n",
       "       ...,\n",
       "       [0., 0., 0., ..., 0., 0., 0.],\n",
       "       [0., 0., 0., ..., 0., 0., 0.],\n",
       "       [0., 0., 0., ..., 0., 1., 0.]])"
      ]
     },
     "execution_count": 22,
     "metadata": {},
     "output_type": "execute_result"
    }
   ],
   "source": [
    "train_labels"
   ]
  },
  {
   "cell_type": "code",
   "execution_count": 23,
   "metadata": {
    "colab": {
     "base_uri": "https://localhost:8080/"
    },
    "id": "GKqRgXX_RFmp",
    "outputId": "80d0bb59-5cc6-413a-e529-ab8db306e029"
   },
   "outputs": [
    {
     "name": "stdout",
     "output_type": "stream",
     "text": [
      "Epoch 1/10\n",
      "\u001b[1m469/469\u001b[0m \u001b[32m━━━━━━━━━━━━━━━━━━━━\u001b[0m\u001b[37m\u001b[0m \u001b[1m6s\u001b[0m 10ms/step - accuracy: 0.8734 - loss: 0.4410\n",
      "Epoch 2/10\n",
      "\u001b[1m469/469\u001b[0m \u001b[32m━━━━━━━━━━━━━━━━━━━━\u001b[0m\u001b[37m\u001b[0m \u001b[1m6s\u001b[0m 12ms/step - accuracy: 0.9654 - loss: 0.1158\n",
      "Epoch 3/10\n",
      "\u001b[1m469/469\u001b[0m \u001b[32m━━━━━━━━━━━━━━━━━━━━\u001b[0m\u001b[37m\u001b[0m \u001b[1m9s\u001b[0m 9ms/step - accuracy: 0.9771 - loss: 0.0752\n",
      "Epoch 4/10\n",
      "\u001b[1m469/469\u001b[0m \u001b[32m━━━━━━━━━━━━━━━━━━━━\u001b[0m\u001b[37m\u001b[0m \u001b[1m6s\u001b[0m 12ms/step - accuracy: 0.9853 - loss: 0.0508\n",
      "Epoch 5/10\n",
      "\u001b[1m469/469\u001b[0m \u001b[32m━━━━━━━━━━━━━━━━━━━━\u001b[0m\u001b[37m\u001b[0m \u001b[1m9s\u001b[0m 9ms/step - accuracy: 0.9902 - loss: 0.0357\n",
      "Epoch 6/10\n",
      "\u001b[1m469/469\u001b[0m \u001b[32m━━━━━━━━━━━━━━━━━━━━\u001b[0m\u001b[37m\u001b[0m \u001b[1m6s\u001b[0m 12ms/step - accuracy: 0.9918 - loss: 0.0287\n",
      "Epoch 7/10\n",
      "\u001b[1m469/469\u001b[0m \u001b[32m━━━━━━━━━━━━━━━━━━━━\u001b[0m\u001b[37m\u001b[0m \u001b[1m10s\u001b[0m 11ms/step - accuracy: 0.9939 - loss: 0.0208\n",
      "Epoch 8/10\n",
      "\u001b[1m469/469\u001b[0m \u001b[32m━━━━━━━━━━━━━━━━━━━━\u001b[0m\u001b[37m\u001b[0m \u001b[1m5s\u001b[0m 11ms/step - accuracy: 0.9958 - loss: 0.0150\n",
      "Epoch 9/10\n",
      "\u001b[1m469/469\u001b[0m \u001b[32m━━━━━━━━━━━━━━━━━━━━\u001b[0m\u001b[37m\u001b[0m \u001b[1m4s\u001b[0m 9ms/step - accuracy: 0.9970 - loss: 0.0114\n",
      "Epoch 10/10\n",
      "\u001b[1m469/469\u001b[0m \u001b[32m━━━━━━━━━━━━━━━━━━━━\u001b[0m\u001b[37m\u001b[0m \u001b[1m5s\u001b[0m 12ms/step - accuracy: 0.9980 - loss: 0.0083\n"
     ]
    },
    {
     "data": {
      "text/plain": [
       "<keras.src.callbacks.history.History at 0x7d6815b87280>"
      ]
     },
     "execution_count": 23,
     "metadata": {},
     "output_type": "execute_result"
    }
   ],
   "source": [
    "network.fit(train_images, train_labels, epochs=10, batch_size=128)"
   ]
  },
  {
   "cell_type": "code",
   "execution_count": 24,
   "metadata": {
    "colab": {
     "base_uri": "https://localhost:8080/"
    },
    "id": "NiFYoHIGRIY5",
    "outputId": "e2851109-5270-4644-a839-aa2459c2428f"
   },
   "outputs": [
    {
     "name": "stdout",
     "output_type": "stream",
     "text": [
      "\u001b[1m313/313\u001b[0m \u001b[32m━━━━━━━━━━━━━━━━━━━━\u001b[0m\u001b[37m\u001b[0m \u001b[1m1s\u001b[0m 3ms/step - accuracy: 0.9775 - loss: 0.0861\n"
     ]
    }
   ],
   "source": [
    "test_loss, test_acc = network.evaluate(test_images, test_labels)"
   ]
  },
  {
   "cell_type": "code",
   "execution_count": 25,
   "metadata": {
    "colab": {
     "base_uri": "https://localhost:8080/"
    },
    "id": "-nr3UDgHjFSo",
    "outputId": "6603291c-b311-4b30-aa1a-6c76ba73aabe"
   },
   "outputs": [
    {
     "data": {
      "text/plain": [
       "(784,)"
      ]
     },
     "execution_count": 25,
     "metadata": {},
     "output_type": "execute_result"
    }
   ],
   "source": [
    "test_images[0].shape"
   ]
  },
  {
   "cell_type": "code",
   "execution_count": 28,
   "metadata": {
    "colab": {
     "base_uri": "https://localhost:8080/"
    },
    "id": "bk7Sv9zoYHyg",
    "outputId": "ed4a5c5a-ee3c-409f-8858-2e0bf662ab92"
   },
   "outputs": [
    {
     "name": "stdout",
     "output_type": "stream",
     "text": [
      "\u001b[1m1/1\u001b[0m \u001b[32m━━━━━━━━━━━━━━━━━━━━\u001b[0m\u001b[37m\u001b[0m \u001b[1m0s\u001b[0m 25ms/step\n"
     ]
    },
    {
     "data": {
      "text/plain": [
       "7"
      ]
     },
     "execution_count": 28,
     "metadata": {},
     "output_type": "execute_result"
    }
   ],
   "source": [
    "\n",
    "\n",
    "image = test_images[0].reshape(1,784)\n",
    "probabilities = network.predict(image)\n",
    "probabilities.argmax()"
   ]
  },
  {
   "cell_type": "code",
   "execution_count": 27,
   "metadata": {
    "colab": {
     "base_uri": "https://localhost:8080/"
    },
    "id": "TDQiNwm2jnuz",
    "outputId": "93f7b286-6157-4538-8523-2069abd5a0ee"
   },
   "outputs": [
    {
     "data": {
      "text/plain": [
       "array([[1.8722306e-10, 1.0561093e-11, 1.1904306e-07, 5.3034398e-07,\n",
       "        1.4434866e-14, 5.6757371e-10, 2.3786878e-13, 9.9999940e-01,\n",
       "        1.5189233e-09, 5.2126250e-09]], dtype=float32)"
      ]
     },
     "execution_count": 27,
     "metadata": {},
     "output_type": "execute_result"
    }
   ],
   "source": [
    "probabilities"
   ]
  },
  {
   "cell_type": "code",
   "execution_count": null,
   "metadata": {
    "colab": {
     "base_uri": "https://localhost:8080/"
    },
    "id": "pz-HooW33esX",
    "outputId": "9be040c6-3129-4298-dde9-669d071f385a"
   },
   "outputs": [
    {
     "data": {
      "text/plain": [
       "(784,)"
      ]
     },
     "execution_count": 28,
     "metadata": {},
     "output_type": "execute_result"
    }
   ],
   "source": [
    "test_images[0].shape"
   ]
  },
  {
   "cell_type": "code",
   "execution_count": 29,
   "metadata": {
    "colab": {
     "base_uri": "https://localhost:8080/"
    },
    "id": "o-N8Ca_eZFoT",
    "outputId": "9a4a5d7e-c932-4a45-cedd-0951187fb647"
   },
   "outputs": [
    {
     "data": {
      "text/plain": [
       "array([0., 0., 0., 0., 0., 0., 0., 1., 0., 0.])"
      ]
     },
     "execution_count": 29,
     "metadata": {},
     "output_type": "execute_result"
    }
   ],
   "source": [
    "test_labels[0]"
   ]
  },
  {
   "cell_type": "code",
   "execution_count": 37,
   "metadata": {
    "colab": {
     "base_uri": "https://localhost:8080/"
    },
    "id": "Ke6zrKG9RPUA",
    "outputId": "36bc1e2f-b42d-4775-e516-8e53e4320d51"
   },
   "outputs": [
    {
     "name": "stdout",
     "output_type": "stream",
     "text": [
      "(28, 28, 1)\n",
      "\u001b[1m1/1\u001b[0m \u001b[32m━━━━━━━━━━━━━━━━━━━━\u001b[0m\u001b[37m\u001b[0m \u001b[1m0s\u001b[0m 31ms/step\n"
     ]
    }
   ],
   "source": [
    "import keras\n",
    "import numpy as np\n",
    "image = keras.utils.load_img('six.png')\n",
    "from PIL import Image\n",
    "import numpy as np\n",
    "\n",
    "# Load the image using PIL\n",
    "image = Image.open('six.png')\n",
    "\n",
    "# Convert the image to grayscale\n",
    "grayscale_image = image.convert('L')  # 'L' mode is for grayscale\n",
    "\n",
    "input_arr = keras.utils.img_to_array(grayscale_image)\n",
    "print(input_arr.shape)\n",
    "input_arr = input_arr.reshape(1,784)\n",
    "predictions = network.predict(input_arr)"
   ]
  },
  {
   "cell_type": "code",
   "execution_count": 38,
   "metadata": {
    "colab": {
     "base_uri": "https://localhost:8080/"
    },
    "id": "W1-kwbn_X5Bq",
    "outputId": "0b9e25d7-26dd-4fe9-f380-069ac9d4c1b8"
   },
   "outputs": [
    {
     "data": {
      "text/plain": [
       "array([[0., 0., 0., 0., 0., 0., 1., 0., 0., 0.]], dtype=float32)"
      ]
     },
     "execution_count": 38,
     "metadata": {},
     "output_type": "execute_result"
    }
   ],
   "source": [
    "predictions"
   ]
  },
  {
   "cell_type": "code",
   "execution_count": 40,
   "metadata": {
    "colab": {
     "base_uri": "https://localhost:8080/"
    },
    "id": "48RmVHtKmvc3",
    "outputId": "174a96b3-2681-44fc-bb62-2eb3370c3089"
   },
   "outputs": [
    {
     "data": {
      "text/plain": [
       "6"
      ]
     },
     "execution_count": 40,
     "metadata": {},
     "output_type": "execute_result"
    }
   ],
   "source": [
    "predictions.argmax()"
   ]
  },
  {
   "cell_type": "code",
   "execution_count": null,
   "metadata": {
    "colab": {
     "base_uri": "https://localhost:8080/"
    },
    "id": "cVXvMr2Say7q",
    "outputId": "10fa1098-e988-402b-e19c-8f2c2d9b87ca"
   },
   "outputs": [
    {
     "data": {
      "text/plain": [
       "(1, 784)"
      ]
     },
     "execution_count": 53,
     "metadata": {},
     "output_type": "execute_result"
    }
   ],
   "source": [
    "test_images[8].reshape(1,784).shape\n"
   ]
  },
  {
   "cell_type": "code",
   "execution_count": 42,
   "metadata": {
    "id": "SihqkgVTbFKI"
   },
   "outputs": [],
   "source": [
    "import keras\n",
    "import numpy as np\n",
    "def classify_image(img):\n",
    "\n",
    "  image = keras.utils.load_img(img ,grayscale=True)\n",
    "\n",
    "  input_arr = keras.utils.img_to_array(image)\n",
    "\n",
    "  input_arr = input_arr.reshape(1,784)\n",
    "  predictions = network.predict(input_arr)\n",
    "\n",
    "  return predictions.argmax(), predictions"
   ]
  },
  {
   "cell_type": "code",
   "execution_count": 43,
   "metadata": {
    "colab": {
     "base_uri": "https://localhost:8080/",
     "height": 263
    },
    "id": "heKBkGtzd6fn",
    "outputId": "e5911f81-edd6-45e4-b4f6-381924577860"
   },
   "outputs": [
    {
     "ename": "TypeError",
     "evalue": "load_img() got an unexpected keyword argument 'grayscale'",
     "output_type": "error",
     "traceback": [
      "\u001b[0;31m---------------------------------------------------------------------------\u001b[0m",
      "\u001b[0;31mTypeError\u001b[0m                                 Traceback (most recent call last)",
      "\u001b[0;32m<ipython-input-43-adf1d8b296cd>\u001b[0m in \u001b[0;36m<cell line: 1>\u001b[0;34m()\u001b[0m\n\u001b[0;32m----> 1\u001b[0;31m \u001b[0mclassify_image\u001b[0m\u001b[0;34m(\u001b[0m\u001b[0;34m'six.png'\u001b[0m\u001b[0;34m)\u001b[0m\u001b[0;34m\u001b[0m\u001b[0;34m\u001b[0m\u001b[0m\n\u001b[0m",
      "\u001b[0;32m<ipython-input-42-aef2377dba3c>\u001b[0m in \u001b[0;36mclassify_image\u001b[0;34m(img)\u001b[0m\n\u001b[1;32m      3\u001b[0m \u001b[0;32mdef\u001b[0m \u001b[0mclassify_image\u001b[0m\u001b[0;34m(\u001b[0m\u001b[0mimg\u001b[0m\u001b[0;34m)\u001b[0m\u001b[0;34m:\u001b[0m\u001b[0;34m\u001b[0m\u001b[0;34m\u001b[0m\u001b[0m\n\u001b[1;32m      4\u001b[0m \u001b[0;34m\u001b[0m\u001b[0m\n\u001b[0;32m----> 5\u001b[0;31m   \u001b[0mimage\u001b[0m \u001b[0;34m=\u001b[0m \u001b[0mkeras\u001b[0m\u001b[0;34m.\u001b[0m\u001b[0mutils\u001b[0m\u001b[0;34m.\u001b[0m\u001b[0mload_img\u001b[0m\u001b[0;34m(\u001b[0m\u001b[0mimg\u001b[0m \u001b[0;34m,\u001b[0m\u001b[0mgrayscale\u001b[0m\u001b[0;34m=\u001b[0m\u001b[0;32mTrue\u001b[0m\u001b[0;34m)\u001b[0m\u001b[0;34m\u001b[0m\u001b[0;34m\u001b[0m\u001b[0m\n\u001b[0m\u001b[1;32m      6\u001b[0m \u001b[0;34m\u001b[0m\u001b[0m\n\u001b[1;32m      7\u001b[0m   \u001b[0minput_arr\u001b[0m \u001b[0;34m=\u001b[0m \u001b[0mkeras\u001b[0m\u001b[0;34m.\u001b[0m\u001b[0mutils\u001b[0m\u001b[0;34m.\u001b[0m\u001b[0mimg_to_array\u001b[0m\u001b[0;34m(\u001b[0m\u001b[0mimage\u001b[0m\u001b[0;34m)\u001b[0m\u001b[0;34m\u001b[0m\u001b[0;34m\u001b[0m\u001b[0m\n",
      "\u001b[0;31mTypeError\u001b[0m: load_img() got an unexpected keyword argument 'grayscale'"
     ]
    }
   ],
   "source": [
    "classify_image('six.png')"
   ]
  },
  {
   "cell_type": "code",
   "execution_count": 44,
   "metadata": {
    "colab": {
     "base_uri": "https://localhost:8080/",
     "height": 221
    },
    "id": "UN5bpNFyeCKJ",
    "outputId": "1e7f72ab-0120-4921-8a61-5fbb26ab68d2"
   },
   "outputs": [
    {
     "data": {
      "text/html": [
       "<pre style=\"white-space:pre;overflow-x:auto;line-height:normal;font-family:Menlo,'DejaVu Sans Mono',consolas,'Courier New',monospace\"><span style=\"font-weight: bold\">Model: \"sequential\"</span>\n",
       "</pre>\n"
      ],
      "text/plain": [
       "\u001b[1mModel: \"sequential\"\u001b[0m\n"
      ]
     },
     "metadata": {},
     "output_type": "display_data"
    },
    {
     "data": {
      "text/html": [
       "<pre style=\"white-space:pre;overflow-x:auto;line-height:normal;font-family:Menlo,'DejaVu Sans Mono',consolas,'Courier New',monospace\">┏━━━━━━━━━━━━━━━━━━━━━━━━━━━━━━━━━━━━━━┳━━━━━━━━━━━━━━━━━━━━━━━━━━━━━┳━━━━━━━━━━━━━━━━━┓\n",
       "┃<span style=\"font-weight: bold\"> Layer (type)                         </span>┃<span style=\"font-weight: bold\"> Output Shape                </span>┃<span style=\"font-weight: bold\">         Param # </span>┃\n",
       "┡━━━━━━━━━━━━━━━━━━━━━━━━━━━━━━━━━━━━━━╇━━━━━━━━━━━━━━━━━━━━━━━━━━━━━╇━━━━━━━━━━━━━━━━━┩\n",
       "│ dense (<span style=\"color: #0087ff; text-decoration-color: #0087ff\">Dense</span>)                        │ (<span style=\"color: #00d7ff; text-decoration-color: #00d7ff\">None</span>, <span style=\"color: #00af00; text-decoration-color: #00af00\">512</span>)                 │         <span style=\"color: #00af00; text-decoration-color: #00af00\">401,920</span> │\n",
       "├──────────────────────────────────────┼─────────────────────────────┼─────────────────┤\n",
       "│ dense_1 (<span style=\"color: #0087ff; text-decoration-color: #0087ff\">Dense</span>)                      │ (<span style=\"color: #00d7ff; text-decoration-color: #00d7ff\">None</span>, <span style=\"color: #00af00; text-decoration-color: #00af00\">10</span>)                  │           <span style=\"color: #00af00; text-decoration-color: #00af00\">5,130</span> │\n",
       "└──────────────────────────────────────┴─────────────────────────────┴─────────────────┘\n",
       "</pre>\n"
      ],
      "text/plain": [
       "┏━━━━━━━━━━━━━━━━━━━━━━━━━━━━━━━━━━━━━━┳━━━━━━━━━━━━━━━━━━━━━━━━━━━━━┳━━━━━━━━━━━━━━━━━┓\n",
       "┃\u001b[1m \u001b[0m\u001b[1mLayer (type)                        \u001b[0m\u001b[1m \u001b[0m┃\u001b[1m \u001b[0m\u001b[1mOutput Shape               \u001b[0m\u001b[1m \u001b[0m┃\u001b[1m \u001b[0m\u001b[1m        Param #\u001b[0m\u001b[1m \u001b[0m┃\n",
       "┡━━━━━━━━━━━━━━━━━━━━━━━━━━━━━━━━━━━━━━╇━━━━━━━━━━━━━━━━━━━━━━━━━━━━━╇━━━━━━━━━━━━━━━━━┩\n",
       "│ dense (\u001b[38;5;33mDense\u001b[0m)                        │ (\u001b[38;5;45mNone\u001b[0m, \u001b[38;5;34m512\u001b[0m)                 │         \u001b[38;5;34m401,920\u001b[0m │\n",
       "├──────────────────────────────────────┼─────────────────────────────┼─────────────────┤\n",
       "│ dense_1 (\u001b[38;5;33mDense\u001b[0m)                      │ (\u001b[38;5;45mNone\u001b[0m, \u001b[38;5;34m10\u001b[0m)                  │           \u001b[38;5;34m5,130\u001b[0m │\n",
       "└──────────────────────────────────────┴─────────────────────────────┴─────────────────┘\n"
      ]
     },
     "metadata": {},
     "output_type": "display_data"
    },
    {
     "data": {
      "text/html": [
       "<pre style=\"white-space:pre;overflow-x:auto;line-height:normal;font-family:Menlo,'DejaVu Sans Mono',consolas,'Courier New',monospace\"><span style=\"font-weight: bold\"> Total params: </span><span style=\"color: #00af00; text-decoration-color: #00af00\">814,102</span> (3.11 MB)\n",
       "</pre>\n"
      ],
      "text/plain": [
       "\u001b[1m Total params: \u001b[0m\u001b[38;5;34m814,102\u001b[0m (3.11 MB)\n"
      ]
     },
     "metadata": {},
     "output_type": "display_data"
    },
    {
     "data": {
      "text/html": [
       "<pre style=\"white-space:pre;overflow-x:auto;line-height:normal;font-family:Menlo,'DejaVu Sans Mono',consolas,'Courier New',monospace\"><span style=\"font-weight: bold\"> Trainable params: </span><span style=\"color: #00af00; text-decoration-color: #00af00\">407,050</span> (1.55 MB)\n",
       "</pre>\n"
      ],
      "text/plain": [
       "\u001b[1m Trainable params: \u001b[0m\u001b[38;5;34m407,050\u001b[0m (1.55 MB)\n"
      ]
     },
     "metadata": {},
     "output_type": "display_data"
    },
    {
     "data": {
      "text/html": [
       "<pre style=\"white-space:pre;overflow-x:auto;line-height:normal;font-family:Menlo,'DejaVu Sans Mono',consolas,'Courier New',monospace\"><span style=\"font-weight: bold\"> Non-trainable params: </span><span style=\"color: #00af00; text-decoration-color: #00af00\">0</span> (0.00 B)\n",
       "</pre>\n"
      ],
      "text/plain": [
       "\u001b[1m Non-trainable params: \u001b[0m\u001b[38;5;34m0\u001b[0m (0.00 B)\n"
      ]
     },
     "metadata": {},
     "output_type": "display_data"
    },
    {
     "data": {
      "text/html": [
       "<pre style=\"white-space:pre;overflow-x:auto;line-height:normal;font-family:Menlo,'DejaVu Sans Mono',consolas,'Courier New',monospace\"><span style=\"font-weight: bold\"> Optimizer params: </span><span style=\"color: #00af00; text-decoration-color: #00af00\">407,052</span> (1.55 MB)\n",
       "</pre>\n"
      ],
      "text/plain": [
       "\u001b[1m Optimizer params: \u001b[0m\u001b[38;5;34m407,052\u001b[0m (1.55 MB)\n"
      ]
     },
     "metadata": {},
     "output_type": "display_data"
    }
   ],
   "source": [
    "network.summary()"
   ]
  },
  {
   "cell_type": "code",
   "execution_count": null,
   "metadata": {
    "id": "2iRErKU0nN0W"
   },
   "outputs": [],
   "source": []
  }
 ],
 "metadata": {
  "colab": {
   "provenance": []
  },
  "kernelspec": {
   "display_name": "Python 3 (ipykernel)",
   "language": "python",
   "name": "python3"
  },
  "language_info": {
   "codemirror_mode": {
    "name": "ipython",
    "version": 3
   },
   "file_extension": ".py",
   "mimetype": "text/x-python",
   "name": "python",
   "nbconvert_exporter": "python",
   "pygments_lexer": "ipython3",
   "version": "3.12.3"
  }
 },
 "nbformat": 4,
 "nbformat_minor": 4
}
